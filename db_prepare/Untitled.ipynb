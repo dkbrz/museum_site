{
 "cells": [
  {
   "cell_type": "code",
   "execution_count": 1,
   "metadata": {},
   "outputs": [],
   "source": [
    "import mysql.connector\n",
    "from sqlalchemy import create_engine\n",
    "from config import MYSQL_CONNECTION, MYSQL_CONNECTION2, SQLALCH1, SQLALCH2"
   ]
  },
  {
   "cell_type": "code",
   "execution_count": 2,
   "metadata": {},
   "outputs": [],
   "source": [
    "db = mysql.connector.connect(**MYSQL_CONNECTION)\n",
    "cur = db.cursor()\n",
    "\n",
    "con1 = create_engine(SQLALCH1)\n",
    "\n",
    "con = create_engine(SQLALCH2)"
   ]
  },
  {
   "cell_type": "code",
   "execution_count": 3,
   "metadata": {},
   "outputs": [],
   "source": [
    "import pandas as pd\n",
    "from transliterate import translit\n",
    "from tqdm.auto import tqdm"
   ]
  },
  {
   "cell_type": "markdown",
   "metadata": {},
   "source": [
    "## copy"
   ]
  },
  {
   "cell_type": "code",
   "execution_count": 4,
   "metadata": {},
   "outputs": [],
   "source": [
    "tablenames = [\n",
    "#     \"author_name\",\n",
    "    \"authors\",\n",
    "    \"author_wd_features\",\n",
    "    \"author_wiki_data\",\n",
    "    \"author_wiki_properties_labels\",\n",
    "    \"geo_production\",\n",
    "    \"geo_wiki\",\n",
    "    \"images\",\n",
    "    \"museums\",\n",
    "    \"technologies\",\n",
    "    \"technology_name\",\n",
    "    \"__tech_raw\",\n",
    "    \"typology\"\n",
    "]"
   ]
  },
  {
   "cell_type": "code",
   "execution_count": 5,
   "metadata": {},
   "outputs": [],
   "source": [
    "df = pd.read_sql_table(\"author_name\", con=SQLALCH1)#.head(1000)"
   ]
  },
  {
   "cell_type": "code",
   "execution_count": 6,
   "metadata": {},
   "outputs": [],
   "source": [
    "def to_en(x):\n",
    "    if x is None:\n",
    "        return None\n",
    "    return translit(x, language_code=\"ru\", reversed=True)\n",
    "\n",
    "def to_ru(x):\n",
    "    if x is None:\n",
    "        return None\n",
    "    return translit(x, language_code=\"ru\")"
   ]
  },
  {
   "cell_type": "code",
   "execution_count": 7,
   "metadata": {},
   "outputs": [],
   "source": [
    "df[\"name_en\"] = df[[\"name_en\", \"name_ru\"]].apply(\n",
    "    lambda x: to_en(x[\"name_ru\"]) if x[\"name_en\"] is None else x[\"name_en\"], axis=1\n",
    ")"
   ]
  },
  {
   "cell_type": "code",
   "execution_count": 8,
   "metadata": {},
   "outputs": [],
   "source": [
    "df[\"name_ru\"] = df[[\"name_en\", \"name_ru\"]].apply(\n",
    "    lambda x: to_en(x[\"name_en\"]) if x[\"name_ru\"] is None else x[\"name_ru\"], axis=1\n",
    ")"
   ]
  },
  {
   "cell_type": "code",
   "execution_count": 9,
   "metadata": {},
   "outputs": [
    {
     "data": {
      "text/plain": [
       "'Луиги Россини'"
      ]
     },
     "execution_count": 9,
     "metadata": {},
     "output_type": "execute_result"
    }
   ],
   "source": [
    "to_ru(\"Luigi Rossini\")"
   ]
  },
  {
   "cell_type": "code",
   "execution_count": 10,
   "metadata": {},
   "outputs": [
    {
     "data": {
      "text/html": [
       "<div>\n",
       "<style scoped>\n",
       "    .dataframe tbody tr th:only-of-type {\n",
       "        vertical-align: middle;\n",
       "    }\n",
       "\n",
       "    .dataframe tbody tr th {\n",
       "        vertical-align: top;\n",
       "    }\n",
       "\n",
       "    .dataframe thead th {\n",
       "        text-align: right;\n",
       "    }\n",
       "</style>\n",
       "<table border=\"1\" class=\"dataframe\">\n",
       "  <thead>\n",
       "    <tr style=\"text-align: right;\">\n",
       "      <th></th>\n",
       "      <th>id</th>\n",
       "      <th>name_en</th>\n",
       "      <th>name_ru</th>\n",
       "      <th>wiki_id</th>\n",
       "    </tr>\n",
       "  </thead>\n",
       "  <tbody>\n",
       "    <tr>\n",
       "      <th>29</th>\n",
       "      <td>30</td>\n",
       "      <td>None</td>\n",
       "      <td>None</td>\n",
       "      <td>Q81644873</td>\n",
       "    </tr>\n",
       "    <tr>\n",
       "      <th>39</th>\n",
       "      <td>40</td>\n",
       "      <td>None</td>\n",
       "      <td>None</td>\n",
       "      <td>Q20604405</td>\n",
       "    </tr>\n",
       "    <tr>\n",
       "      <th>262</th>\n",
       "      <td>263</td>\n",
       "      <td>None</td>\n",
       "      <td>None</td>\n",
       "      <td>Q16432712</td>\n",
       "    </tr>\n",
       "    <tr>\n",
       "      <th>310</th>\n",
       "      <td>311</td>\n",
       "      <td>None</td>\n",
       "      <td>None</td>\n",
       "      <td>Q13209494</td>\n",
       "    </tr>\n",
       "    <tr>\n",
       "      <th>446</th>\n",
       "      <td>447</td>\n",
       "      <td>None</td>\n",
       "      <td>None</td>\n",
       "      <td>Q20617698</td>\n",
       "    </tr>\n",
       "    <tr>\n",
       "      <th>...</th>\n",
       "      <td>...</td>\n",
       "      <td>...</td>\n",
       "      <td>...</td>\n",
       "      <td>...</td>\n",
       "    </tr>\n",
       "    <tr>\n",
       "      <th>56220</th>\n",
       "      <td>56221</td>\n",
       "      <td>None</td>\n",
       "      <td>None</td>\n",
       "      <td>Q12131926</td>\n",
       "    </tr>\n",
       "    <tr>\n",
       "      <th>56252</th>\n",
       "      <td>56253</td>\n",
       "      <td>None</td>\n",
       "      <td>None</td>\n",
       "      <td>Q12562083</td>\n",
       "    </tr>\n",
       "    <tr>\n",
       "      <th>56298</th>\n",
       "      <td>56299</td>\n",
       "      <td>None</td>\n",
       "      <td>None</td>\n",
       "      <td>Q12150387</td>\n",
       "    </tr>\n",
       "    <tr>\n",
       "      <th>56300</th>\n",
       "      <td>56301</td>\n",
       "      <td>None</td>\n",
       "      <td>None</td>\n",
       "      <td>Q12087800</td>\n",
       "    </tr>\n",
       "    <tr>\n",
       "      <th>56306</th>\n",
       "      <td>56307</td>\n",
       "      <td>None</td>\n",
       "      <td>None</td>\n",
       "      <td>Q63696812</td>\n",
       "    </tr>\n",
       "  </tbody>\n",
       "</table>\n",
       "<p>1475 rows × 4 columns</p>\n",
       "</div>"
      ],
      "text/plain": [
       "          id name_en name_ru    wiki_id\n",
       "29        30    None    None  Q81644873\n",
       "39        40    None    None  Q20604405\n",
       "262      263    None    None  Q16432712\n",
       "310      311    None    None  Q13209494\n",
       "446      447    None    None  Q20617698\n",
       "...      ...     ...     ...        ...\n",
       "56220  56221    None    None  Q12131926\n",
       "56252  56253    None    None  Q12562083\n",
       "56298  56299    None    None  Q12150387\n",
       "56300  56301    None    None  Q12087800\n",
       "56306  56307    None    None  Q63696812\n",
       "\n",
       "[1475 rows x 4 columns]"
      ]
     },
     "execution_count": 10,
     "metadata": {},
     "output_type": "execute_result"
    }
   ],
   "source": [
    "df[df[\"name_ru\"].isnull()]"
   ]
  },
  {
   "cell_type": "code",
   "execution_count": 12,
   "metadata": {},
   "outputs": [],
   "source": [
    "df.columns = [\"author_id\", \"name_en\", \"name_ru\", \"qid\"]"
   ]
  },
  {
   "cell_type": "code",
   "execution_count": 14,
   "metadata": {},
   "outputs": [],
   "source": [
    "df.to_sql(\"author_name\", index=False, con=con, if_exists=\"replace\")"
   ]
  },
  {
   "cell_type": "code",
   "execution_count": 41,
   "metadata": {},
   "outputs": [],
   "source": [
    "# from wikidata.client import Client"
   ]
  },
  {
   "cell_type": "code",
   "execution_count": 48,
   "metadata": {},
   "outputs": [],
   "source": [
    "# def get_en_label(x):\n",
    "#     try:\n",
    "#         client = Client()\n",
    "#         entity = client.get(x, load=True)\n",
    "#         for lang in [\"en\", \"fr\", \"it\", \"de\"]:\n",
    "#             res = entity.label.get(lang)\n",
    "#             if res:\n",
    "#                 return res\n",
    "#         return None\n",
    "#     except:\n",
    "#         print(x)\n",
    "#         return x\n",
    "\n",
    "# def get_ru_label(x):\n",
    "#     client = Client()\n",
    "#     entity = client.get(x, load=True)\n",
    "#     if entity.label.get(\"ru\"):\n",
    "#         return entity.label.get(\"ru\")\n",
    "#     else:\n",
    "#         candidates = dict(entity.label)\n",
    "#         print(candidates)\n",
    "#         return candidates[candidates.keys()[0]]"
   ]
  },
  {
   "cell_type": "code",
   "execution_count": 43,
   "metadata": {},
   "outputs": [],
   "source": [
    "# tqdm.pandas(desc=\"\")"
   ]
  },
  {
   "cell_type": "code",
   "execution_count": 15,
   "metadata": {
    "scrolled": true
   },
   "outputs": [],
   "source": [
    "# df[\"name_en\"] = df[[\"name_en\", \"wiki_id\"]].progress_apply(\n",
    "#     lambda x: get_en_label(x[\"wiki_id\"]) if x[\"name_en\"] is None else x[\"name_en\"], axis=1\n",
    "# )"
   ]
  },
  {
   "cell_type": "code",
   "execution_count": 16,
   "metadata": {},
   "outputs": [],
   "source": [
    "# df[df[\"name_ru\"].isnull()].shape, df[df[\"name_en\"].isnull()].shape"
   ]
  },
  {
   "cell_type": "code",
   "execution_count": null,
   "metadata": {},
   "outputs": [],
   "source": [
    "# df[[\"name_en\", \"wiki_id\"]].head(2000).progress_apply(\n",
    "#     lambda x: get_en_label(x[\"wiki_id\"]) if x[\"name_en\"] is None else x[\"name_en\"], axis=1\n",
    "# )"
   ]
  },
  {
   "cell_type": "code",
   "execution_count": 17,
   "metadata": {},
   "outputs": [],
   "source": [
    "# df[\"name_ru\"] = df[[\"name_en\", \"name_ru\"]].apply(\n",
    "#     lambda x: to_ru(x[\"name_en\"]) if x[\"name_ru\"] is None else x[\"name_ru\"], axis=1\n",
    "# )"
   ]
  },
  {
   "cell_type": "code",
   "execution_count": null,
   "metadata": {},
   "outputs": [],
   "source": [
    "# for x in df[df[\"name_ru\"].isnull()][\"name_en\"]:\n",
    "#     client.get(x, load=True).label"
   ]
  },
  {
   "cell_type": "code",
   "execution_count": 18,
   "metadata": {},
   "outputs": [],
   "source": [
    "# client = Client()\n",
    "# entity = client.get(\"Q20625509\", load=True)"
   ]
  },
  {
   "cell_type": "markdown",
   "metadata": {},
   "source": [
    "```sql\n",
    "CREATE TABLE museum_site.collection AS\n",
    "SELECT \n",
    "    collection.id, collection.name, collection.museum_copuk, collection.typology,\n",
    "    time.startYear, time.startMonth, time.startDay, time.finishYear, time.finishMonth, time.finishDay, \n",
    "    time.sure as time_sure, geo_production.qid as geo_id\n",
    "FROM collection\n",
    "LEFT JOIN time ON collection.id = time.id\n",
    "LEFT JOIN geo_production ON collection.id = geo_production.id;\n",
    "```"
   ]
  },
  {
   "cell_type": "code",
   "execution_count": null,
   "metadata": {},
   "outputs": [],
   "source": [
    "SELECT ROW_NUMBER(), text\n",
    "FROM (\n",
    "    GROUP_CONCAT(__author_raw.trim_auth SEPARATOR \", \") as text\n",
    "    FROM __author_raw\n",
    "    GROUP BY __author_raw.\n",
    ") as t"
   ]
  },
  {
   "cell_type": "code",
   "execution_count": 1,
   "metadata": {},
   "outputs": [],
   "source": [
    "# collection = pd.read_sql_query(\"\"\"\n",
    "# SELECT \n",
    "#     collection.id, collection.name, collection.museum_copuk, collection.typology,\n",
    "#     time.startYear, time.startMonth, time.startDay, time.finishYear, time.finishMonth, time.finishDay, \n",
    "#     time.sure as time_sure, geo_production.qid as geo_id\n",
    "# FROM collection\n",
    "# LEFT JOIN time ON collection.id = time.id\n",
    "# LEFT JOIN geo_production ON collection.id = geo_production.id\n",
    "# \"\"\", con=con1)"
   ]
  },
  {
   "cell_type": "markdown",
   "metadata": {},
   "source": [
    "```\n",
    "CREATE TABLE museum_site.author_raw (id INTEGER PRIMARY KEY auto_increment, text TEXT);\n",
    "CREATE TABLE museum_site.time_raw (id INTEGER PRIMARY KEY auto_increment, text TEXT);\n",
    "CREATE TABLE museum_site.technology_raw (id INTEGER PRIMARY KEY auto_increment, text TEXT);\n",
    "CREATE TABLE museum_site.description_raw (id INTEGER PRIMARY KEY auto_increment, text TEXT);\n",
    "CREATE TABLE museum_site.provenance_raw (id INTEGER PRIMARY KEY auto_increment, text TEXT);\n",
    "CREATE TABLE museum_site.production_raw (id INTEGER PRIMARY KEY auto_increment, text TEXT);\n",
    "CREATE TABLE museum_site.find_raw (id INTEGER PRIMARY KEY auto_increment, text TEXT);\n",
    "```"
   ]
  },
  {
   "cell_type": "code",
   "execution_count": 4,
   "metadata": {},
   "outputs": [
    {
     "name": "stdout",
     "output_type": "stream",
     "text": [
      "yes\n"
     ]
    }
   ],
   "source": [
    "with con.connect() as to, con1.raw_connection().cursor() as fro:\n",
    "    fro.execute(\"\"\"\n",
    "    SELECT DISTINCT GROUP_CONCAT(__author_raw.trim_auth SEPARATOR \", \") as text\n",
    "    FROM __author_raw\n",
    "    GROUP BY __author_raw.obj_id;\"\"\")\n",
    "    data = fro.fetchall()\n",
    "    print(\"yes\")\n",
    "    trans = to.begin()\n",
    "    to.execute(\"INSERT INTO author_raw (text) VALUES (%s)\", data)\n",
    "    trans.commit()"
   ]
  },
  {
   "cell_type": "code",
   "execution_count": 5,
   "metadata": {},
   "outputs": [
    {
     "name": "stdout",
     "output_type": "stream",
     "text": [
      "yes\n"
     ]
    }
   ],
   "source": [
    "with con.connect() as to, con1.raw_connection().cursor() as fro:\n",
    "    fro.execute(\"\"\"\n",
    "    SELECT DISTINCT GROUP_CONCAT(__tech_raw.tech_text SEPARATOR \", \") as text\n",
    "    FROM __tech_raw\n",
    "    GROUP BY __tech_raw.obj_id;\"\"\")\n",
    "    data = fro.fetchall()\n",
    "    print(\"yes\")\n",
    "    trans = to.begin()\n",
    "    to.execute(\"INSERT INTO technology_raw (text) VALUES (%s)\", data)\n",
    "    trans.commit()"
   ]
  },
  {
   "cell_type": "code",
   "execution_count": 1,
   "metadata": {},
   "outputs": [],
   "source": [
    "# with con.connect() as to, con1.raw_connection().cursor() as fro:\n",
    "#     fro.execute(\"\"\"\n",
    "#     SELECT DISTINCT description as text\n",
    "#     FROM textual;\"\"\")\n",
    "#     data = fro.fetchall()\n",
    "#     print(\"yes\")\n",
    "#     trans = to.begin()\n",
    "#     to.execute(\"INSERT INTO description_raw (text) VALUES (%s)\", data)\n",
    "#     trans.commit()"
   ]
  },
  {
   "cell_type": "code",
   "execution_count": 4,
   "metadata": {},
   "outputs": [
    {
     "name": "stdout",
     "output_type": "stream",
     "text": [
      "yes\n"
     ]
    }
   ],
   "source": [
    "with con.connect() as to, con1.raw_connection().cursor() as fro:\n",
    "    fro.execute(\"\"\"\n",
    "    SELECT DISTINCT productionPlace as text\n",
    "    FROM geo;\"\"\")\n",
    "    data = fro.fetchall()\n",
    "    print(\"yes\")\n",
    "    trans = to.begin()\n",
    "    to.execute(\"INSERT INTO production_raw (text) VALUES (%s)\", data)\n",
    "    trans.commit()"
   ]
  },
  {
   "cell_type": "code",
   "execution_count": 5,
   "metadata": {},
   "outputs": [
    {
     "name": "stdout",
     "output_type": "stream",
     "text": [
      "yes\n"
     ]
    }
   ],
   "source": [
    "with con.connect() as to, con1.raw_connection().cursor() as fro:\n",
    "    fro.execute(\"\"\"\n",
    "    SELECT DISTINCT findPlace as text\n",
    "    FROM geo;\"\"\")\n",
    "    data = fro.fetchall()\n",
    "    print(\"yes\")\n",
    "    trans = to.begin()\n",
    "    to.execute(\"INSERT INTO find_raw (text) VALUES (%s)\", data)\n",
    "    trans.commit()"
   ]
  },
  {
   "cell_type": "code",
   "execution_count": 6,
   "metadata": {},
   "outputs": [
    {
     "name": "stdout",
     "output_type": "stream",
     "text": [
      "yes\n"
     ]
    }
   ],
   "source": [
    "with con.connect() as to, con1.raw_connection().cursor() as fro:\n",
    "    fro.execute(\"\"\"\n",
    "    SELECT DISTINCT periodStr as text\n",
    "    FROM time;\"\"\")\n",
    "    data = fro.fetchall()\n",
    "    print(\"yes\")\n",
    "    trans = to.begin()\n",
    "    to.execute(\"INSERT INTO time_raw (text) VALUES (%s)\", data)\n",
    "    trans.commit()"
   ]
  },
  {
   "cell_type": "code",
   "execution_count": 7,
   "metadata": {},
   "outputs": [],
   "source": [
    "df = pd.read_sql_table(\"technology_name\", con=con1)\n",
    "df.to_sql(\"technology_name\", index=False, con=con, if_exists=\"replace\")"
   ]
  },
  {
   "cell_type": "code",
   "execution_count": 9,
   "metadata": {},
   "outputs": [],
   "source": [
    "df = pd.read_sql_table(\"author_wiki_data\", con=con1)\n",
    "df = df[[\"person_id\", \"property_id\", \"entity_id\", \"entity_value\"]]\n",
    "df.columns = [\"author_id\", \"property_id\", \"entity_id\", \"entity_value\"]\n",
    "df.to_sql(\"author_wikidata\", index=False, con=con, if_exists=\"replace\")"
   ]
  },
  {
   "cell_type": "code",
   "execution_count": 10,
   "metadata": {},
   "outputs": [],
   "source": [
    "df = pd.read_sql_table(\"author_wiki_properties_labels\", con=con1)\n",
    "df.columns = [\"property_id\", \"qid\", \"name_en\", \"name_ru\"]\n",
    "df.to_sql(\"wikidata_properties\", index=False, con=con, if_exists=\"replace\")"
   ]
  },
  {
   "cell_type": "code",
   "execution_count": 11,
   "metadata": {},
   "outputs": [],
   "source": [
    "df = pd.read_sql_table(\"author_wd_features\", con=con1)\n",
    "df.columns = [\"entity_id\", \"name_en\", \"name_ru\"]\n",
    "df.to_sql(\"wikidata_entities\", index=False, con=con, if_exists=\"replace\")"
   ]
  },
  {
   "cell_type": "code",
   "execution_count": 12,
   "metadata": {},
   "outputs": [],
   "source": [
    "df = pd.read_sql_table(\"authors\", con=con1)[[\"obj_id\", \"auth_id\"]]\n",
    "df.columns = [\"id\", \"author_id\"]\n",
    "df.to_sql(\"authors\", index=False, con=con, if_exists=\"replace\")"
   ]
  },
  {
   "cell_type": "code",
   "execution_count": null,
   "metadata": {},
   "outputs": [],
   "source": [
    "# df = pd.read_sql_query(\"SELECT obj_id, tech_id FROM technologies\", con=con1)\n",
    "# df.columns = [\"id\", \"tech_id\"]\n",
    "# df.to_sql(\"technologies\", index=False, con=con, if_exists=\"replace\")\n",
    "\n",
    "CREATE TABLE museum_site.technologies (id INTEGER, tech_id INTEGER);\n",
    "INSERT INTO museum_site.technologies\n",
    "SELECT obj_id, tech_id FROM museum_20_09_27.technologies;"
   ]
  },
  {
   "cell_type": "code",
   "execution_count": 6,
   "metadata": {},
   "outputs": [],
   "source": [
    "df = pd.read_sql_table(\"museums\", con=con1).drop(\"index\", axis=1)\n",
    "names = [i.lower() for i in df.columns]\n",
    "names[0] = \"museum_copuk\"\n",
    "df.columns = names\n",
    "df.to_sql(\"museums\", index=False, con=con, if_exists=\"replace\")"
   ]
  },
  {
   "cell_type": "code",
   "execution_count": 7,
   "metadata": {},
   "outputs": [],
   "source": [
    "df = pd.read_sql_table(\"geo_wiki\", con=con1).drop(\"index\", axis=1)\n",
    "names = [i.lower() for i in df.columns]\n",
    "names[0] = \"geo_id\"\n",
    "df.columns = names\n",
    "df.to_sql(\"geo_wiki\", index=False, con=con, if_exists=\"replace\")"
   ]
  },
  {
   "cell_type": "code",
   "execution_count": null,
   "metadata": {},
   "outputs": [],
   "source": [
    "CREATE TABLE museum_site.image_link (id INTEGER, image_id INTEGER);\n",
    "INSERT INTO museum_site.image_link\n",
    "SELECT obj_id, image_id FROM images ORDER BY obj_id, image_id;\n",
    "\n",
    "\n",
    "CREATE TABLE museum_site.faces_painting (face_id INT, image_id INT, top INT, `right`INT, bottom INT, `left` INT);\n",
    "INSERT INTO museum_site.faces_painting\n",
    "SELECT id, obj_id, top, `right`, bottom, `left` FROM museum_20_09_27.__i_face ORDER BY id, obj_id;"
   ]
  },
  {
   "cell_type": "markdown",
   "metadata": {},
   "source": [
    "```sql\n",
    "SELECT * FROM museum_site.collection;\n",
    "\n",
    "CREATE TABLE collection (\n",
    "\tid INTEGER PRIMARY KEY, `name` TEXT, museum_copuk INT, typology TINYINT, geo_id INT, \n",
    "    author_str INT, time_str INT, technology_str INT, description_str INT, production_str INT, find_str INT,\n",
    "    startYear INT, startMonth TINYINT, startDay TINYINT, finishYear INT, finishMonth TINYINT, finishDay TINYINT, time_sure TINYINT\n",
    ");\n",
    "\n",
    "INSERT INTO museum_site.collection (id, `name`, museum_copuk, typology)\n",
    "SELECT id, `name`, museum_copuk, typology FROM museum_20_09_27.collection;\n",
    "\n",
    "\n",
    "UPDATE museum_site.collection as newt\n",
    "INNER JOIN museum_20_09_27.geo_production as oldt ON newt.id = oldt.id\n",
    "SET geo_id = qid;\n",
    "\n",
    "```"
   ]
  },
  {
   "cell_type": "code",
   "execution_count": 4,
   "metadata": {},
   "outputs": [],
   "source": [
    "db = mysql.connector.connect(**MYSQL_CONNECTION)\n",
    "cur = db.cursor()\n",
    "\n",
    "db2 = mysql.connector.connect(**MYSQL_CONNECTION2)\n",
    "cur2 = db2.cursor()"
   ]
  },
  {
   "cell_type": "code",
   "execution_count": 5,
   "metadata": {},
   "outputs": [],
   "source": [
    "# cur2.execute(\"SELECT text, id FROM time_raw\")\n",
    "# mapping = dict(cur2.fetchall())"
   ]
  },
  {
   "cell_type": "code",
   "execution_count": 5,
   "metadata": {},
   "outputs": [],
   "source": [
    "cur.execute(\"SELECT id, periodStr FROM time WHERE periodStr IS NOT NULL\")\n",
    "data = cur.fetchall()"
   ]
  },
  {
   "cell_type": "code",
   "execution_count": 6,
   "metadata": {},
   "outputs": [],
   "source": [
    "result = []\n",
    "mapping = {}\n",
    "for idx, value in data:\n",
    "    if value not in mapping:\n",
    "        mapping[value] = len(mapping)\n",
    "    result.append((mapping.get(value), idx))"
   ]
  },
  {
   "cell_type": "code",
   "execution_count": 7,
   "metadata": {},
   "outputs": [],
   "source": [
    "mapping = [(value, key) for key, value in mapping.items()]"
   ]
  },
  {
   "cell_type": "code",
   "execution_count": 8,
   "metadata": {},
   "outputs": [
    {
     "data": {
      "text/plain": [
       "(918546, 918546)"
      ]
     },
     "execution_count": 8,
     "metadata": {},
     "output_type": "execute_result"
    }
   ],
   "source": [
    "len(set(i[0] for i in mapping)), len(mapping)"
   ]
  },
  {
   "cell_type": "code",
   "execution_count": 10,
   "metadata": {},
   "outputs": [
    {
     "data": {
      "application/vnd.jupyter.widget-view+json": {
       "model_id": "c268a1b47347469a9bf91b9dc94cacd2",
       "version_major": 2,
       "version_minor": 0
      },
      "text/plain": [
       "HBox(children=(FloatProgress(value=0.0, max=92.0), HTML(value='')))"
      ]
     },
     "metadata": {},
     "output_type": "display_data"
    },
    {
     "name": "stdout",
     "output_type": "stream",
     "text": [
      "\n"
     ]
    }
   ],
   "source": [
    "K = 10000\n",
    "for i in tqdm(range(len(mapping) // K + 1)):\n",
    "    cur2.executemany(\"INSERT INTO time_raw VALUES (%s, %s)\", mapping[i * K: (i + 1) * K])\n",
    "    db2.commit()"
   ]
  },
  {
   "cell_type": "code",
   "execution_count": 11,
   "metadata": {},
   "outputs": [
    {
     "data": {
      "application/vnd.jupyter.widget-view+json": {
       "model_id": "21e81fff7aa043bf884c51c44b2acb5a",
       "version_major": 2,
       "version_minor": 0
      },
      "text/plain": [
       "HBox(children=(FloatProgress(value=0.0, max=1831.0), HTML(value='')))"
      ]
     },
     "metadata": {},
     "output_type": "display_data"
    },
    {
     "name": "stdout",
     "output_type": "stream",
     "text": [
      "\n"
     ]
    }
   ],
   "source": [
    "K = 10000\n",
    "for i in tqdm(range(len(result) // K + 1)):\n",
    "    cur2.executemany(\"UPDATE collection SET time_str = %s WHERE id = %s\", result[i * K: (i + 1) * K])\n",
    "    db2.commit()"
   ]
  },
  {
   "cell_type": "code",
   "execution_count": null,
   "metadata": {},
   "outputs": [],
   "source": []
  },
  {
   "cell_type": "code",
   "execution_count": 5,
   "metadata": {},
   "outputs": [
    {
     "data": {
      "application/vnd.jupyter.widget-view+json": {
       "model_id": "e360133699f14cac8c2c8571a970956e",
       "version_major": 2,
       "version_minor": 0
      },
      "text/plain": [
       "HBox(children=(FloatProgress(value=0.0, max=14.0), HTML(value='')))"
      ]
     },
     "metadata": {},
     "output_type": "display_data"
    },
    {
     "name": "stdout",
     "output_type": "stream",
     "text": [
      "\n"
     ]
    },
    {
     "data": {
      "application/vnd.jupyter.widget-view+json": {
       "model_id": "3298555c481640a7a1f2efd8ce5d88d2",
       "version_major": 2,
       "version_minor": 0
      },
      "text/plain": [
       "HBox(children=(FloatProgress(value=0.0, max=354.0), HTML(value='')))"
      ]
     },
     "metadata": {},
     "output_type": "display_data"
    },
    {
     "name": "stdout",
     "output_type": "stream",
     "text": [
      "\n"
     ]
    }
   ],
   "source": [
    "cur.execute(\"SELECT id, findPlace FROM geo WHERE findPlace IS NOT NULL\")\n",
    "data = cur.fetchall()\n",
    "\n",
    "\n",
    "result = []\n",
    "mapping = {}\n",
    "for idx, value in data:\n",
    "    if value not in mapping:\n",
    "        mapping[value] = len(mapping)\n",
    "    result.append((mapping.get(value), idx))\n",
    "    \n",
    "mapping = [(value, key) for key, value in mapping.items()]\n",
    "\n",
    "K = 10000\n",
    "for i in tqdm(range(len(mapping) // K + 1)):\n",
    "    cur2.executemany(\"INSERT INTO find_raw VALUES (%s, %s)\", mapping[i * K: (i + 1) * K])\n",
    "    db2.commit()\n",
    "\n",
    "K = 10000\n",
    "for i in tqdm(range(len(result) // K + 1)):\n",
    "    cur2.executemany(\"UPDATE collection SET find_str = %s WHERE id = %s\", result[i * K: (i + 1) * K])\n",
    "    db2.commit()"
   ]
  },
  {
   "cell_type": "code",
   "execution_count": 8,
   "metadata": {},
   "outputs": [],
   "source": [
    "del data, result, mapping"
   ]
  },
  {
   "cell_type": "code",
   "execution_count": 5,
   "metadata": {},
   "outputs": [
    {
     "data": {
      "application/vnd.jupyter.widget-view+json": {
       "model_id": "ddd8f642ac6e4dfba12b112a3aa58134",
       "version_major": 2,
       "version_minor": 0
      },
      "text/plain": [
       "HBox(children=(FloatProgress(value=0.0, max=39.0), HTML(value='')))"
      ]
     },
     "metadata": {},
     "output_type": "display_data"
    },
    {
     "name": "stdout",
     "output_type": "stream",
     "text": [
      "\n"
     ]
    },
    {
     "data": {
      "application/vnd.jupyter.widget-view+json": {
       "model_id": "f04da89684724c5da61fdfffe20e1927",
       "version_major": 2,
       "version_minor": 0
      },
      "text/plain": [
       "HBox(children=(FloatProgress(value=0.0, max=1035.0), HTML(value='')))"
      ]
     },
     "metadata": {},
     "output_type": "display_data"
    },
    {
     "name": "stdout",
     "output_type": "stream",
     "text": [
      "\n"
     ]
    }
   ],
   "source": [
    "cur.execute(\"SELECT id, productionPlace FROM geo WHERE productionPlace IS NOT NULL\")\n",
    "data = cur.fetchall()\n",
    "\n",
    "\n",
    "result = []\n",
    "mapping = {}\n",
    "for idx, value in data:\n",
    "    if value not in mapping:\n",
    "        mapping[value] = len(mapping)\n",
    "    result.append((mapping.get(value), idx))\n",
    "    \n",
    "mapping = [(value, key) for key, value in mapping.items()]\n",
    "\n",
    "K = 10000\n",
    "for i in tqdm(range(len(mapping) // K + 1)):\n",
    "    cur2.executemany(\"INSERT INTO production_raw VALUES (%s, %s)\", mapping[i * K: (i + 1) * K])\n",
    "    db2.commit()\n",
    "\n",
    "K = 10000\n",
    "for i in tqdm(range(len(result) // K + 1)):\n",
    "    cur2.executemany(\"UPDATE collection SET production_str = %s WHERE id = %s\", result[i * K: (i + 1) * K])\n",
    "    db2.commit()"
   ]
  },
  {
   "cell_type": "code",
   "execution_count": null,
   "metadata": {},
   "outputs": [],
   "source": []
  },
  {
   "cell_type": "code",
   "execution_count": 5,
   "metadata": {},
   "outputs": [],
   "source": [
    "cur.execute(\"\"\"\n",
    "SELECT obj_id, GROUP_CONCAT(__tech_raw.tech_text SEPARATOR \", \") as text\n",
    "FROM __tech_raw\n",
    "GROUP BY __tech_raw.obj_id;\n",
    "\"\"\")\n",
    "data = cur.fetchall()"
   ]
  },
  {
   "cell_type": "code",
   "execution_count": 10,
   "metadata": {},
   "outputs": [
    {
     "name": "stdout",
     "output_type": "stream",
     "text": [
      "\n"
     ]
    }
   ],
   "source": [
    "result = []\n",
    "mapping = {}\n",
    "for idx, value in data:\n",
    "    if value not in mapping:\n",
    "        mapping[value] = len(mapping)\n",
    "    result.append((mapping.get(value), idx))"
   ]
  },
  {
   "cell_type": "code",
   "execution_count": 11,
   "metadata": {},
   "outputs": [
    {
     "data": {
      "text/plain": [
       "(17152279, 1402774)"
      ]
     },
     "execution_count": 11,
     "metadata": {},
     "output_type": "execute_result"
    }
   ],
   "source": [
    "mapping = [(value, key) for key, value in mapping.items()]\n",
    "len(result), len(mapping)"
   ]
  },
  {
   "cell_type": "code",
   "execution_count": 12,
   "metadata": {},
   "outputs": [
    {
     "data": {
      "application/vnd.jupyter.widget-view+json": {
       "model_id": "655680a2275949d4a349521d2840a607",
       "version_major": 2,
       "version_minor": 0
      },
      "text/plain": [
       "HBox(children=(FloatProgress(value=0.0, max=141.0), HTML(value='')))"
      ]
     },
     "metadata": {},
     "output_type": "display_data"
    },
    {
     "name": "stdout",
     "output_type": "stream",
     "text": [
      "\n"
     ]
    }
   ],
   "source": [
    "K = 10000\n",
    "for i in tqdm(range(len(mapping) // K + 1)):\n",
    "    cur2.executemany(\"INSERT INTO technology_raw VALUES (%s, %s)\", mapping[i * K: (i + 1) * K])\n",
    "    db2.commit()"
   ]
  },
  {
   "cell_type": "code",
   "execution_count": 13,
   "metadata": {},
   "outputs": [
    {
     "data": {
      "application/vnd.jupyter.widget-view+json": {
       "model_id": "d1e03ba2623046aa8835b97a8c062212",
       "version_major": 2,
       "version_minor": 0
      },
      "text/plain": [
       "HBox(children=(FloatProgress(value=0.0, max=1716.0), HTML(value='')))"
      ]
     },
     "metadata": {},
     "output_type": "display_data"
    },
    {
     "name": "stdout",
     "output_type": "stream",
     "text": [
      "\n"
     ]
    }
   ],
   "source": [
    "K = 10000\n",
    "for i in tqdm(range(len(result) // K + 1)):\n",
    "    cur2.executemany(\"UPDATE collection SET technology_str = %s WHERE id = %s\", result[i * K: (i + 1) * K])\n",
    "    db2.commit()"
   ]
  },
  {
   "cell_type": "code",
   "execution_count": null,
   "metadata": {},
   "outputs": [],
   "source": []
  },
  {
   "cell_type": "code",
   "execution_count": 6,
   "metadata": {},
   "outputs": [],
   "source": [
    "cur.execute(\"\"\"\n",
    "SELECT obj_id, GROUP_CONCAT(__author_raw.trim_auth SEPARATOR \", \") as text\n",
    "FROM __author_raw\n",
    "GROUP BY __author_raw.obj_id;\n",
    "\"\"\")\n",
    "data = cur.fetchall()"
   ]
  },
  {
   "cell_type": "code",
   "execution_count": 7,
   "metadata": {},
   "outputs": [],
   "source": [
    "result = []\n",
    "mapping = {}\n",
    "for idx, value in data:\n",
    "    if value not in mapping:\n",
    "        mapping[value] = len(mapping)\n",
    "    result.append((mapping.get(value), idx))"
   ]
  },
  {
   "cell_type": "code",
   "execution_count": 8,
   "metadata": {},
   "outputs": [
    {
     "data": {
      "text/plain": [
       "(4430700, 718062)"
      ]
     },
     "execution_count": 8,
     "metadata": {},
     "output_type": "execute_result"
    }
   ],
   "source": [
    "mapping = [(value, key) for key, value in mapping.items()]\n",
    "len(result), len(mapping)"
   ]
  },
  {
   "cell_type": "code",
   "execution_count": 9,
   "metadata": {},
   "outputs": [
    {
     "data": {
      "application/vnd.jupyter.widget-view+json": {
       "model_id": "508293f57a154b3baacb4dfb879348c3",
       "version_major": 2,
       "version_minor": 0
      },
      "text/plain": [
       "HBox(children=(FloatProgress(value=0.0, max=72.0), HTML(value='')))"
      ]
     },
     "metadata": {},
     "output_type": "display_data"
    },
    {
     "name": "stdout",
     "output_type": "stream",
     "text": [
      "\n"
     ]
    }
   ],
   "source": [
    "K = 10000\n",
    "for i in tqdm(range(len(mapping) // K + 1)):\n",
    "    cur2.executemany(\"INSERT INTO author_raw VALUES (%s, %s)\", mapping[i * K: (i + 1) * K])\n",
    "    db2.commit()"
   ]
  },
  {
   "cell_type": "code",
   "execution_count": 10,
   "metadata": {},
   "outputs": [
    {
     "data": {
      "application/vnd.jupyter.widget-view+json": {
       "model_id": "f5e9dded83494737b06bc8955304dd3a",
       "version_major": 2,
       "version_minor": 0
      },
      "text/plain": [
       "HBox(children=(FloatProgress(value=0.0, max=45.0), HTML(value='')))"
      ]
     },
     "metadata": {},
     "output_type": "display_data"
    },
    {
     "name": "stdout",
     "output_type": "stream",
     "text": [
      "\n"
     ]
    }
   ],
   "source": [
    "K = 100000\n",
    "for i in tqdm(range(len(result) // K + 1)):\n",
    "    cur2.executemany(\"UPDATE collection SET author_str = %s WHERE id = %s\", result[i * K: (i + 1) * K])\n",
    "    db2.commit()"
   ]
  }
 ],
 "metadata": {
  "kernelspec": {
   "display_name": "Python 3",
   "language": "python",
   "name": "python3"
  },
  "language_info": {
   "codemirror_mode": {
    "name": "ipython",
    "version": 3
   },
   "file_extension": ".py",
   "mimetype": "text/x-python",
   "name": "python",
   "nbconvert_exporter": "python",
   "pygments_lexer": "ipython3",
   "version": "3.8.5"
  }
 },
 "nbformat": 4,
 "nbformat_minor": 4
}
