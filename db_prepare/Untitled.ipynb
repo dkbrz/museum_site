{
 "cells": [
  {
   "cell_type": "code",
   "execution_count": 1,
   "metadata": {},
   "outputs": [],
   "source": [
    "import mysql.connector\n",
    "from sqlalchemy import create_engine\n",
    "from config import MYSQL_CONNECTION, MYSQL_CONNECTION2, SQLALCH1, SQLALCH2"
   ]
  },
  {
   "cell_type": "code",
   "execution_count": 2,
   "metadata": {},
   "outputs": [],
   "source": [
    "db = mysql.connector.connect(**MYSQL_CONNECTION)\n",
    "cur = db.cursor()\n",
    "\n",
    "con1 = create_engine(SQLALCH1)\n",
    "\n",
    "con = create_engine(SQLALCH2)"
   ]
  },
  {
   "cell_type": "code",
   "execution_count": 3,
   "metadata": {},
   "outputs": [],
   "source": [
    "import pandas as pd\n",
    "from transliterate import translit\n",
    "from tqdm.auto import tqdm"
   ]
  },
  {
   "cell_type": "markdown",
   "metadata": {},
   "source": [
    "## copy"
   ]
  },
  {
   "cell_type": "code",
   "execution_count": 4,
   "metadata": {},
   "outputs": [],
   "source": [
    "tablenames = [\n",
    "#     \"author_name\",\n",
    "    \"authors\",\n",
    "    \"author_wd_features\",\n",
    "    \"author_wiki_data\",\n",
    "    \"author_wiki_properties_labels\",\n",
    "    \"geo_production\",\n",
    "    \"geo_wiki\",\n",
    "    \"images\",\n",
    "    \"museums\",\n",
    "    \"technologies\",\n",
    "    \"technology_name\",\n",
    "    \"__tech_raw\",\n",
    "    \"typology\"\n",
    "]"
   ]
  },
  {
   "cell_type": "code",
   "execution_count": 5,
   "metadata": {},
   "outputs": [],
   "source": [
    "df = pd.read_sql_table(\"author_name\", con=SQLALCH1)#.head(1000)"
   ]
  },
  {
   "cell_type": "code",
   "execution_count": 8,
   "metadata": {},
   "outputs": [],
   "source": [
    "def to_en(x):\n",
    "    if x is None:\n",
    "        return None\n",
    "    return translit(x, language_code=\"ru\", reversed=True)\n",
    "\n",
    "def to_ru(x):\n",
    "    if x is None:\n",
    "        return None\n",
    "    return translit(x, language_code=\"ru\")"
   ]
  },
  {
   "cell_type": "code",
   "execution_count": 7,
   "metadata": {},
   "outputs": [],
   "source": [
    "df[\"name_en\"] = df[[\"name_en\", \"name_ru\"]].apply(\n",
    "    lambda x: to_en(x[\"name_ru\"]) if x[\"name_en\"] is None else x[\"name_en\"], axis=1\n",
    ")"
   ]
  },
  {
   "cell_type": "code",
   "execution_count": 8,
   "metadata": {},
   "outputs": [],
   "source": [
    "df[\"name_ru\"] = df[[\"name_en\", \"name_ru\"]].apply(\n",
    "    lambda x: to_en(x[\"name_en\"]) if x[\"name_ru\"] is None else x[\"name_ru\"], axis=1\n",
    ")"
   ]
  },
  {
   "cell_type": "code",
   "execution_count": 9,
   "metadata": {},
   "outputs": [
    {
     "data": {
      "text/plain": [
       "'Луиги Россини'"
      ]
     },
     "execution_count": 9,
     "metadata": {},
     "output_type": "execute_result"
    }
   ],
   "source": [
    "to_ru(\"Luigi Rossini\")"
   ]
  },
  {
   "cell_type": "code",
   "execution_count": 10,
   "metadata": {},
   "outputs": [
    {
     "data": {
      "text/html": [
       "<div>\n",
       "<style scoped>\n",
       "    .dataframe tbody tr th:only-of-type {\n",
       "        vertical-align: middle;\n",
       "    }\n",
       "\n",
       "    .dataframe tbody tr th {\n",
       "        vertical-align: top;\n",
       "    }\n",
       "\n",
       "    .dataframe thead th {\n",
       "        text-align: right;\n",
       "    }\n",
       "</style>\n",
       "<table border=\"1\" class=\"dataframe\">\n",
       "  <thead>\n",
       "    <tr style=\"text-align: right;\">\n",
       "      <th></th>\n",
       "      <th>id</th>\n",
       "      <th>name_en</th>\n",
       "      <th>name_ru</th>\n",
       "      <th>wiki_id</th>\n",
       "    </tr>\n",
       "  </thead>\n",
       "  <tbody>\n",
       "    <tr>\n",
       "      <th>29</th>\n",
       "      <td>30</td>\n",
       "      <td>None</td>\n",
       "      <td>None</td>\n",
       "      <td>Q81644873</td>\n",
       "    </tr>\n",
       "    <tr>\n",
       "      <th>39</th>\n",
       "      <td>40</td>\n",
       "      <td>None</td>\n",
       "      <td>None</td>\n",
       "      <td>Q20604405</td>\n",
       "    </tr>\n",
       "    <tr>\n",
       "      <th>262</th>\n",
       "      <td>263</td>\n",
       "      <td>None</td>\n",
       "      <td>None</td>\n",
       "      <td>Q16432712</td>\n",
       "    </tr>\n",
       "    <tr>\n",
       "      <th>310</th>\n",
       "      <td>311</td>\n",
       "      <td>None</td>\n",
       "      <td>None</td>\n",
       "      <td>Q13209494</td>\n",
       "    </tr>\n",
       "    <tr>\n",
       "      <th>446</th>\n",
       "      <td>447</td>\n",
       "      <td>None</td>\n",
       "      <td>None</td>\n",
       "      <td>Q20617698</td>\n",
       "    </tr>\n",
       "    <tr>\n",
       "      <th>...</th>\n",
       "      <td>...</td>\n",
       "      <td>...</td>\n",
       "      <td>...</td>\n",
       "      <td>...</td>\n",
       "    </tr>\n",
       "    <tr>\n",
       "      <th>56220</th>\n",
       "      <td>56221</td>\n",
       "      <td>None</td>\n",
       "      <td>None</td>\n",
       "      <td>Q12131926</td>\n",
       "    </tr>\n",
       "    <tr>\n",
       "      <th>56252</th>\n",
       "      <td>56253</td>\n",
       "      <td>None</td>\n",
       "      <td>None</td>\n",
       "      <td>Q12562083</td>\n",
       "    </tr>\n",
       "    <tr>\n",
       "      <th>56298</th>\n",
       "      <td>56299</td>\n",
       "      <td>None</td>\n",
       "      <td>None</td>\n",
       "      <td>Q12150387</td>\n",
       "    </tr>\n",
       "    <tr>\n",
       "      <th>56300</th>\n",
       "      <td>56301</td>\n",
       "      <td>None</td>\n",
       "      <td>None</td>\n",
       "      <td>Q12087800</td>\n",
       "    </tr>\n",
       "    <tr>\n",
       "      <th>56306</th>\n",
       "      <td>56307</td>\n",
       "      <td>None</td>\n",
       "      <td>None</td>\n",
       "      <td>Q63696812</td>\n",
       "    </tr>\n",
       "  </tbody>\n",
       "</table>\n",
       "<p>1475 rows × 4 columns</p>\n",
       "</div>"
      ],
      "text/plain": [
       "          id name_en name_ru    wiki_id\n",
       "29        30    None    None  Q81644873\n",
       "39        40    None    None  Q20604405\n",
       "262      263    None    None  Q16432712\n",
       "310      311    None    None  Q13209494\n",
       "446      447    None    None  Q20617698\n",
       "...      ...     ...     ...        ...\n",
       "56220  56221    None    None  Q12131926\n",
       "56252  56253    None    None  Q12562083\n",
       "56298  56299    None    None  Q12150387\n",
       "56300  56301    None    None  Q12087800\n",
       "56306  56307    None    None  Q63696812\n",
       "\n",
       "[1475 rows x 4 columns]"
      ]
     },
     "execution_count": 10,
     "metadata": {},
     "output_type": "execute_result"
    }
   ],
   "source": [
    "df[df[\"name_ru\"].isnull()]"
   ]
  },
  {
   "cell_type": "code",
   "execution_count": 12,
   "metadata": {},
   "outputs": [],
   "source": [
    "df.columns = [\"author_id\", \"name_en\", \"name_ru\", \"qid\"]"
   ]
  },
  {
   "cell_type": "code",
   "execution_count": 14,
   "metadata": {},
   "outputs": [],
   "source": [
    "df.to_sql(\"author_name\", index=False, con=con, if_exists=\"replace\")"
   ]
  },
  {
   "cell_type": "code",
   "execution_count": 41,
   "metadata": {},
   "outputs": [],
   "source": [
    "# from wikidata.client import Client"
   ]
  },
  {
   "cell_type": "code",
   "execution_count": 48,
   "metadata": {},
   "outputs": [],
   "source": [
    "# def get_en_label(x):\n",
    "#     try:\n",
    "#         client = Client()\n",
    "#         entity = client.get(x, load=True)\n",
    "#         for lang in [\"en\", \"fr\", \"it\", \"de\"]:\n",
    "#             res = entity.label.get(lang)\n",
    "#             if res:\n",
    "#                 return res\n",
    "#         return None\n",
    "#     except:\n",
    "#         print(x)\n",
    "#         return x\n",
    "\n",
    "# def get_ru_label(x):\n",
    "#     client = Client()\n",
    "#     entity = client.get(x, load=True)\n",
    "#     if entity.label.get(\"ru\"):\n",
    "#         return entity.label.get(\"ru\")\n",
    "#     else:\n",
    "#         candidates = dict(entity.label)\n",
    "#         print(candidates)\n",
    "#         return candidates[candidates.keys()[0]]"
   ]
  },
  {
   "cell_type": "code",
   "execution_count": 43,
   "metadata": {},
   "outputs": [],
   "source": [
    "# tqdm.pandas(desc=\"\")"
   ]
  },
  {
   "cell_type": "code",
   "execution_count": 15,
   "metadata": {
    "scrolled": true
   },
   "outputs": [],
   "source": [
    "# df[\"name_en\"] = df[[\"name_en\", \"wiki_id\"]].progress_apply(\n",
    "#     lambda x: get_en_label(x[\"wiki_id\"]) if x[\"name_en\"] is None else x[\"name_en\"], axis=1\n",
    "# )"
   ]
  },
  {
   "cell_type": "code",
   "execution_count": 16,
   "metadata": {},
   "outputs": [],
   "source": [
    "# df[df[\"name_ru\"].isnull()].shape, df[df[\"name_en\"].isnull()].shape"
   ]
  },
  {
   "cell_type": "code",
   "execution_count": null,
   "metadata": {},
   "outputs": [],
   "source": [
    "# df[[\"name_en\", \"wiki_id\"]].head(2000).progress_apply(\n",
    "#     lambda x: get_en_label(x[\"wiki_id\"]) if x[\"name_en\"] is None else x[\"name_en\"], axis=1\n",
    "# )"
   ]
  },
  {
   "cell_type": "code",
   "execution_count": 17,
   "metadata": {},
   "outputs": [],
   "source": [
    "# df[\"name_ru\"] = df[[\"name_en\", \"name_ru\"]].apply(\n",
    "#     lambda x: to_ru(x[\"name_en\"]) if x[\"name_ru\"] is None else x[\"name_ru\"], axis=1\n",
    "# )"
   ]
  },
  {
   "cell_type": "code",
   "execution_count": null,
   "metadata": {},
   "outputs": [],
   "source": [
    "# for x in df[df[\"name_ru\"].isnull()][\"name_en\"]:\n",
    "#     client.get(x, load=True).label"
   ]
  },
  {
   "cell_type": "code",
   "execution_count": 18,
   "metadata": {},
   "outputs": [],
   "source": [
    "# client = Client()\n",
    "# entity = client.get(\"Q20625509\", load=True)"
   ]
  },
  {
   "cell_type": "markdown",
   "metadata": {},
   "source": [
    "```sql\n",
    "CREATE TABLE museum_site.collection AS\n",
    "SELECT \n",
    "    collection.id, collection.name, collection.museum_copuk, collection.typology,\n",
    "    time.startYear, time.startMonth, time.startDay, time.finishYear, time.finishMonth, time.finishDay, \n",
    "    time.sure as time_sure, geo_production.qid as geo_id\n",
    "FROM collection\n",
    "LEFT JOIN time ON collection.id = time.id\n",
    "LEFT JOIN geo_production ON collection.id = geo_production.id;\n",
    "```"
   ]
  },
  {
   "cell_type": "code",
   "execution_count": null,
   "metadata": {},
   "outputs": [],
   "source": [
    "SELECT ROW_NUMBER(), text\n",
    "FROM (\n",
    "    GROUP_CONCAT(__author_raw.trim_auth SEPARATOR \", \") as text\n",
    "    FROM __author_raw\n",
    "    GROUP BY __author_raw.\n",
    ") as t"
   ]
  },
  {
   "cell_type": "code",
   "execution_count": 1,
   "metadata": {},
   "outputs": [],
   "source": [
    "# collection = pd.read_sql_query(\"\"\"\n",
    "# SELECT \n",
    "#     collection.id, collection.name, collection.museum_copuk, collection.typology,\n",
    "#     time.startYear, time.startMonth, time.startDay, time.finishYear, time.finishMonth, time.finishDay, \n",
    "#     time.sure as time_sure, geo_production.qid as geo_id\n",
    "# FROM collection\n",
    "# LEFT JOIN time ON collection.id = time.id\n",
    "# LEFT JOIN geo_production ON collection.id = geo_production.id\n",
    "# \"\"\", con=con1)"
   ]
  },
  {
   "cell_type": "markdown",
   "metadata": {},
   "source": [
    "```\n",
    "CREATE TABLE museum_site.author_raw (id INTEGER PRIMARY KEY auto_increment, text TEXT);\n",
    "CREATE TABLE museum_site.time_raw (id INTEGER PRIMARY KEY auto_increment, text TEXT);\n",
    "CREATE TABLE museum_site.technology_raw (id INTEGER PRIMARY KEY auto_increment, text TEXT);\n",
    "CREATE TABLE museum_site.description_raw (id INTEGER PRIMARY KEY auto_increment, text TEXT);\n",
    "CREATE TABLE museum_site.provenance_raw (id INTEGER PRIMARY KEY auto_increment, text TEXT);\n",
    "CREATE TABLE museum_site.production_raw (id INTEGER PRIMARY KEY auto_increment, text TEXT);\n",
    "CREATE TABLE museum_site.find_raw (id INTEGER PRIMARY KEY auto_increment, text TEXT);\n",
    "```"
   ]
  },
  {
   "cell_type": "code",
   "execution_count": 4,
   "metadata": {},
   "outputs": [
    {
     "name": "stdout",
     "output_type": "stream",
     "text": [
      "yes\n"
     ]
    }
   ],
   "source": [
    "with con.connect() as to, con1.raw_connection().cursor() as fro:\n",
    "    fro.execute(\"\"\"\n",
    "    SELECT DISTINCT GROUP_CONCAT(__author_raw.trim_auth SEPARATOR \", \") as text\n",
    "    FROM __author_raw\n",
    "    GROUP BY __author_raw.obj_id;\"\"\")\n",
    "    data = fro.fetchall()\n",
    "    print(\"yes\")\n",
    "    trans = to.begin()\n",
    "    to.execute(\"INSERT INTO author_raw (text) VALUES (%s)\", data)\n",
    "    trans.commit()"
   ]
  },
  {
   "cell_type": "code",
   "execution_count": 5,
   "metadata": {},
   "outputs": [
    {
     "name": "stdout",
     "output_type": "stream",
     "text": [
      "yes\n"
     ]
    }
   ],
   "source": [
    "with con.connect() as to, con1.raw_connection().cursor() as fro:\n",
    "    fro.execute(\"\"\"\n",
    "    SELECT DISTINCT GROUP_CONCAT(__tech_raw.tech_text SEPARATOR \", \") as text\n",
    "    FROM __tech_raw\n",
    "    GROUP BY __tech_raw.obj_id;\"\"\")\n",
    "    data = fro.fetchall()\n",
    "    print(\"yes\")\n",
    "    trans = to.begin()\n",
    "    to.execute(\"INSERT INTO technology_raw (text) VALUES (%s)\", data)\n",
    "    trans.commit()"
   ]
  },
  {
   "cell_type": "code",
   "execution_count": 1,
   "metadata": {},
   "outputs": [],
   "source": [
    "# with con.connect() as to, con1.raw_connection().cursor() as fro:\n",
    "#     fro.execute(\"\"\"\n",
    "#     SELECT DISTINCT description as text\n",
    "#     FROM textual;\"\"\")\n",
    "#     data = fro.fetchall()\n",
    "#     print(\"yes\")\n",
    "#     trans = to.begin()\n",
    "#     to.execute(\"INSERT INTO description_raw (text) VALUES (%s)\", data)\n",
    "#     trans.commit()"
   ]
  },
  {
   "cell_type": "code",
   "execution_count": 4,
   "metadata": {},
   "outputs": [
    {
     "name": "stdout",
     "output_type": "stream",
     "text": [
      "yes\n"
     ]
    }
   ],
   "source": [
    "with con.connect() as to, con1.raw_connection().cursor() as fro:\n",
    "    fro.execute(\"\"\"\n",
    "    SELECT DISTINCT productionPlace as text\n",
    "    FROM geo_obj;\"\"\")\n",
    "    data = fro.fetchall()\n",
    "    print(\"yes\")\n",
    "    trans = to.begin()\n",
    "    to.execute(\"INSERT INTO production_raw (text) VALUES (%s)\", data)\n",
    "    trans.commit()"
   ]
  },
  {
   "cell_type": "code",
   "execution_count": 5,
   "metadata": {},
   "outputs": [
    {
     "name": "stdout",
     "output_type": "stream",
     "text": [
      "yes\n"
     ]
    }
   ],
   "source": [
    "with con.connect() as to, con1.raw_connection().cursor() as fro:\n",
    "    fro.execute(\"\"\"\n",
    "    SELECT DISTINCT findPlace as text\n",
    "    FROM geo_obj;\"\"\")\n",
    "    data = fro.fetchall()\n",
    "    print(\"yes\")\n",
    "    trans = to.begin()\n",
    "    to.execute(\"INSERT INTO find_raw (text) VALUES (%s)\", data)\n",
    "    trans.commit()"
   ]
  },
  {
   "cell_type": "code",
   "execution_count": 6,
   "metadata": {},
   "outputs": [
    {
     "name": "stdout",
     "output_type": "stream",
     "text": [
      "yes\n"
     ]
    }
   ],
   "source": [
    "with con.connect() as to, con1.raw_connection().cursor() as fro:\n",
    "    fro.execute(\"\"\"\n",
    "    SELECT DISTINCT periodStr as text\n",
    "    FROM time;\"\"\")\n",
    "    data = fro.fetchall()\n",
    "    print(\"yes\")\n",
    "    trans = to.begin()\n",
    "    to.execute(\"INSERT INTO time_raw (text) VALUES (%s)\", data)\n",
    "    trans.commit()"
   ]
  },
  {
   "cell_type": "code",
   "execution_count": 7,
   "metadata": {},
   "outputs": [],
   "source": [
    "df = pd.read_sql_table(\"technology_name\", con=con1)\n",
    "df.to_sql(\"technology_name\", index=False, con=con, if_exists=\"replace\")"
   ]
  },
  {
   "cell_type": "code",
   "execution_count": 9,
   "metadata": {},
   "outputs": [],
   "source": [
    "df = pd.read_sql_table(\"author_wiki_data\", con=con1)\n",
    "df = df[[\"person_id\", \"property_id\", \"entity_id\", \"entity_value\"]]\n",
    "df.columns = [\"author_id\", \"property_id\", \"entity_id\", \"entity_value\"]\n",
    "df.to_sql(\"author_wikidata\", index=False, con=con, if_exists=\"replace\")"
   ]
  },
  {
   "cell_type": "code",
   "execution_count": 10,
   "metadata": {},
   "outputs": [],
   "source": [
    "df = pd.read_sql_table(\"author_wiki_properties_labels\", con=con1)\n",
    "df.columns = [\"property_id\", \"qid\", \"name_en\", \"name_ru\"]\n",
    "df.to_sql(\"wikidata_properties\", index=False, con=con, if_exists=\"replace\")"
   ]
  },
  {
   "cell_type": "code",
   "execution_count": 11,
   "metadata": {},
   "outputs": [],
   "source": [
    "df = pd.read_sql_table(\"author_wd_features\", con=con1)\n",
    "df.columns = [\"entity_id\", \"name_en\", \"name_ru\"]\n",
    "df.to_sql(\"wikidata_entities\", index=False, con=con, if_exists=\"replace\")"
   ]
  },
  {
   "cell_type": "code",
   "execution_count": 12,
   "metadata": {},
   "outputs": [],
   "source": [
    "df = pd.read_sql_table(\"authors\", con=con1)[[\"obj_id\", \"auth_id\"]]\n",
    "df.columns = [\"id\", \"author_id\"]\n",
    "df.to_sql(\"authors\", index=False, con=con, if_exists=\"replace\")"
   ]
  },
  {
   "cell_type": "code",
   "execution_count": null,
   "metadata": {},
   "outputs": [],
   "source": [
    "# df = pd.read_sql_query(\"SELECT obj_id, tech_id FROM technologies\", con=con1)\n",
    "# df.columns = [\"id\", \"tech_id\"]\n",
    "# df.to_sql(\"technologies\", index=False, con=con, if_exists=\"replace\")\n",
    "\n",
    "CREATE TABLE museum_site.technologies (id INTEGER, tech_id INTEGER);\n",
    "INSERT INTO museum_site.technologies\n",
    "SELECT obj_id, tech_id FROM museum_20_09_27.technologies;"
   ]
  },
  {
   "cell_type": "code",
   "execution_count": 6,
   "metadata": {},
   "outputs": [],
   "source": [
    "df = pd.read_sql_table(\"museums\", con=con1).drop(\"index\", axis=1)\n",
    "names = [i.lower() for i in df.columns]\n",
    "names[0] = \"museum_copuk\"\n",
    "df.columns = names\n",
    "df.to_sql(\"museums\", index=False, con=con, if_exists=\"replace\")"
   ]
  },
  {
   "cell_type": "code",
   "execution_count": 7,
   "metadata": {},
   "outputs": [],
   "source": [
    "df = pd.read_sql_table(\"geo_wiki\", con=con1).drop(\"index\", axis=1)\n",
    "names = [i.lower() for i in df.columns]\n",
    "names[0] = \"geo_id\"\n",
    "df.columns = names\n",
    "df.to_sql(\"geo_wiki\", index=False, con=con, if_exists=\"replace\")"
   ]
  },
  {
   "cell_type": "code",
   "execution_count": null,
   "metadata": {},
   "outputs": [],
   "source": [
    "CREATE TABLE museum_site.image_link (id INTEGER, image_id INTEGER);\n",
    "INSERT INTO museum_site.image_link\n",
    "SELECT obj_id, image_id FROM images ORDER BY obj_id, image_id;\n",
    "\n",
    "\n",
    "CREATE TABLE museum_site.faces_painting (face_id INT, image_id INT, top INT, `right`INT, bottom INT, `left` INT);\n",
    "INSERT INTO museum_site.faces_painting\n",
    "SELECT id, obj_id, top, `right`, bottom, `left` FROM museum_20_09_27.__i_face ORDER BY id, obj_id;"
   ]
  },
  {
   "cell_type": "markdown",
   "metadata": {},
   "source": [
    "```sql\n",
    "SELECT * FROM museum_site.collection;\n",
    "\n",
    "CREATE TABLE collection (\n",
    "\tid INTEGER PRIMARY KEY, `name` TEXT, museum_copuk INT, typology TINYINT, geo_id INT, \n",
    "    author_str INT, time_str INT, technology_str INT, description_str INT, production_str INT, find_str INT,\n",
    "    startYear INT, startMonth TINYINT, startDay TINYINT, finishYear INT, finishMonth TINYINT, finishDay TINYINT, time_sure TINYINT\n",
    ");\n",
    "\n",
    "INSERT INTO museum_site.collection (id, `name`, museum_copuk, typology)\n",
    "SELECT id, `name`, museum_copuk, typology FROM museum_20_09_27.collection;\n",
    "\n",
    "\n",
    "UPDATE museum_site.collection as newt\n",
    "INNER JOIN museum_20_09_27.geo_production as oldt ON newt.id = oldt.id\n",
    "SET geo_id = qid;\n",
    "\n",
    "```"
   ]
  },
  {
   "cell_type": "code",
   "execution_count": 4,
   "metadata": {},
   "outputs": [],
   "source": [
    "db = mysql.connector.connect(**MYSQL_CONNECTION)\n",
    "cur = db.cursor()\n",
    "\n",
    "db2 = mysql.connector.connect(**MYSQL_CONNECTION2)\n",
    "cur2 = db2.cursor()"
   ]
  },
  {
   "cell_type": "code",
   "execution_count": 5,
   "metadata": {},
   "outputs": [],
   "source": [
    "# cur2.execute(\"SELECT text, id FROM time_raw\")\n",
    "# mapping = dict(cur2.fetchall())"
   ]
  },
  {
   "cell_type": "code",
   "execution_count": 5,
   "metadata": {},
   "outputs": [],
   "source": [
    "cur.execute(\"SELECT id, periodStr FROM time WHERE periodStr IS NOT NULL\")\n",
    "data = cur.fetchall()"
   ]
  },
  {
   "cell_type": "code",
   "execution_count": 6,
   "metadata": {},
   "outputs": [],
   "source": [
    "result = []\n",
    "mapping = {}\n",
    "for idx, value in data:\n",
    "    if value not in mapping:\n",
    "        mapping[value] = len(mapping)\n",
    "    result.append((mapping.get(value), idx))"
   ]
  },
  {
   "cell_type": "code",
   "execution_count": 7,
   "metadata": {},
   "outputs": [],
   "source": [
    "mapping = [(value, key) for key, value in mapping.items()]"
   ]
  },
  {
   "cell_type": "code",
   "execution_count": 8,
   "metadata": {},
   "outputs": [
    {
     "data": {
      "text/plain": [
       "(918546, 918546)"
      ]
     },
     "execution_count": 8,
     "metadata": {},
     "output_type": "execute_result"
    }
   ],
   "source": [
    "len(set(i[0] for i in mapping)), len(mapping)"
   ]
  },
  {
   "cell_type": "code",
   "execution_count": 10,
   "metadata": {},
   "outputs": [
    {
     "data": {
      "application/vnd.jupyter.widget-view+json": {
       "model_id": "c268a1b47347469a9bf91b9dc94cacd2",
       "version_major": 2,
       "version_minor": 0
      },
      "text/plain": [
       "HBox(children=(FloatProgress(value=0.0, max=92.0), HTML(value='')))"
      ]
     },
     "metadata": {},
     "output_type": "display_data"
    },
    {
     "name": "stdout",
     "output_type": "stream",
     "text": [
      "\n"
     ]
    }
   ],
   "source": [
    "K = 10000\n",
    "for i in tqdm(range(len(mapping) // K + 1)):\n",
    "    cur2.executemany(\"INSERT INTO time_raw VALUES (%s, %s)\", mapping[i * K: (i + 1) * K])\n",
    "    db2.commit()"
   ]
  },
  {
   "cell_type": "code",
   "execution_count": 11,
   "metadata": {},
   "outputs": [
    {
     "data": {
      "application/vnd.jupyter.widget-view+json": {
       "model_id": "21e81fff7aa043bf884c51c44b2acb5a",
       "version_major": 2,
       "version_minor": 0
      },
      "text/plain": [
       "HBox(children=(FloatProgress(value=0.0, max=1831.0), HTML(value='')))"
      ]
     },
     "metadata": {},
     "output_type": "display_data"
    },
    {
     "name": "stdout",
     "output_type": "stream",
     "text": [
      "\n"
     ]
    }
   ],
   "source": [
    "K = 10000\n",
    "for i in tqdm(range(len(result) // K + 1)):\n",
    "    cur2.executemany(\"UPDATE collection SET time_str = %s WHERE id = %s\", result[i * K: (i + 1) * K])\n",
    "    db2.commit()"
   ]
  },
  {
   "cell_type": "code",
   "execution_count": null,
   "metadata": {},
   "outputs": [],
   "source": []
  },
  {
   "cell_type": "code",
   "execution_count": 5,
   "metadata": {},
   "outputs": [
    {
     "data": {
      "application/vnd.jupyter.widget-view+json": {
       "model_id": "e360133699f14cac8c2c8571a970956e",
       "version_major": 2,
       "version_minor": 0
      },
      "text/plain": [
       "HBox(children=(FloatProgress(value=0.0, max=14.0), HTML(value='')))"
      ]
     },
     "metadata": {},
     "output_type": "display_data"
    },
    {
     "name": "stdout",
     "output_type": "stream",
     "text": [
      "\n"
     ]
    },
    {
     "data": {
      "application/vnd.jupyter.widget-view+json": {
       "model_id": "3298555c481640a7a1f2efd8ce5d88d2",
       "version_major": 2,
       "version_minor": 0
      },
      "text/plain": [
       "HBox(children=(FloatProgress(value=0.0, max=354.0), HTML(value='')))"
      ]
     },
     "metadata": {},
     "output_type": "display_data"
    },
    {
     "name": "stdout",
     "output_type": "stream",
     "text": [
      "\n"
     ]
    }
   ],
   "source": [
    "cur.execute(\"SELECT id, findPlace FROM geo_obj WHERE findPlace IS NOT NULL\")\n",
    "data = cur.fetchall()\n",
    "\n",
    "\n",
    "result = []\n",
    "mapping = {}\n",
    "for idx, value in data:\n",
    "    if value not in mapping:\n",
    "        mapping[value] = len(mapping)\n",
    "    result.append((mapping.get(value), idx))\n",
    "    \n",
    "mapping = [(value, key) for key, value in mapping.items()]\n",
    "\n",
    "K = 10000\n",
    "for i in tqdm(range(len(mapping) // K + 1)):\n",
    "    cur2.executemany(\"INSERT INTO find_raw VALUES (%s, %s)\", mapping[i * K: (i + 1) * K])\n",
    "    db2.commit()\n",
    "\n",
    "K = 10000\n",
    "for i in tqdm(range(len(result) // K + 1)):\n",
    "    cur2.executemany(\"UPDATE collection SET find_str = %s WHERE id = %s\", result[i * K: (i + 1) * K])\n",
    "    db2.commit()"
   ]
  },
  {
   "cell_type": "code",
   "execution_count": 8,
   "metadata": {},
   "outputs": [],
   "source": [
    "del data, result, mapping"
   ]
  },
  {
   "cell_type": "code",
   "execution_count": 5,
   "metadata": {},
   "outputs": [
    {
     "data": {
      "application/vnd.jupyter.widget-view+json": {
       "model_id": "ddd8f642ac6e4dfba12b112a3aa58134",
       "version_major": 2,
       "version_minor": 0
      },
      "text/plain": [
       "HBox(children=(FloatProgress(value=0.0, max=39.0), HTML(value='')))"
      ]
     },
     "metadata": {},
     "output_type": "display_data"
    },
    {
     "name": "stdout",
     "output_type": "stream",
     "text": [
      "\n"
     ]
    },
    {
     "data": {
      "application/vnd.jupyter.widget-view+json": {
       "model_id": "f04da89684724c5da61fdfffe20e1927",
       "version_major": 2,
       "version_minor": 0
      },
      "text/plain": [
       "HBox(children=(FloatProgress(value=0.0, max=1035.0), HTML(value='')))"
      ]
     },
     "metadata": {},
     "output_type": "display_data"
    },
    {
     "name": "stdout",
     "output_type": "stream",
     "text": [
      "\n"
     ]
    }
   ],
   "source": [
    "cur.execute(\"SELECT id, productionPlace FROM geo_obj WHERE productionPlace IS NOT NULL\")\n",
    "data = cur.fetchall()\n",
    "\n",
    "\n",
    "result = []\n",
    "mapping = {}\n",
    "for idx, value in data:\n",
    "    if value not in mapping:\n",
    "        mapping[value] = len(mapping)\n",
    "    result.append((mapping.get(value), idx))\n",
    "    \n",
    "mapping = [(value, key) for key, value in mapping.items()]\n",
    "\n",
    "K = 10000\n",
    "for i in tqdm(range(len(mapping) // K + 1)):\n",
    "    cur2.executemany(\"INSERT INTO production_raw VALUES (%s, %s)\", mapping[i * K: (i + 1) * K])\n",
    "    db2.commit()\n",
    "\n",
    "K = 10000\n",
    "for i in tqdm(range(len(result) // K + 1)):\n",
    "    cur2.executemany(\"UPDATE collection SET production_str = %s WHERE id = %s\", result[i * K: (i + 1) * K])\n",
    "    db2.commit()"
   ]
  },
  {
   "cell_type": "code",
   "execution_count": null,
   "metadata": {},
   "outputs": [],
   "source": []
  },
  {
   "cell_type": "code",
   "execution_count": 5,
   "metadata": {},
   "outputs": [],
   "source": [
    "cur.execute(\"\"\"\n",
    "SELECT obj_id, GROUP_CONCAT(__tech_raw.tech_text SEPARATOR \", \") as text\n",
    "FROM __tech_raw\n",
    "GROUP BY __tech_raw.obj_id;\n",
    "\"\"\")\n",
    "data = cur.fetchall()"
   ]
  },
  {
   "cell_type": "code",
   "execution_count": 10,
   "metadata": {},
   "outputs": [
    {
     "name": "stdout",
     "output_type": "stream",
     "text": [
      "\n"
     ]
    }
   ],
   "source": [
    "result = []\n",
    "mapping = {}\n",
    "for idx, value in data:\n",
    "    if value not in mapping:\n",
    "        mapping[value] = len(mapping)\n",
    "    result.append((mapping.get(value), idx))"
   ]
  },
  {
   "cell_type": "code",
   "execution_count": 11,
   "metadata": {},
   "outputs": [
    {
     "data": {
      "text/plain": [
       "(17152279, 1402774)"
      ]
     },
     "execution_count": 11,
     "metadata": {},
     "output_type": "execute_result"
    }
   ],
   "source": [
    "mapping = [(value, key) for key, value in mapping.items()]\n",
    "len(result), len(mapping)"
   ]
  },
  {
   "cell_type": "code",
   "execution_count": 12,
   "metadata": {},
   "outputs": [
    {
     "data": {
      "application/vnd.jupyter.widget-view+json": {
       "model_id": "655680a2275949d4a349521d2840a607",
       "version_major": 2,
       "version_minor": 0
      },
      "text/plain": [
       "HBox(children=(FloatProgress(value=0.0, max=141.0), HTML(value='')))"
      ]
     },
     "metadata": {},
     "output_type": "display_data"
    },
    {
     "name": "stdout",
     "output_type": "stream",
     "text": [
      "\n"
     ]
    }
   ],
   "source": [
    "K = 10000\n",
    "for i in tqdm(range(len(mapping) // K + 1)):\n",
    "    cur2.executemany(\"INSERT INTO technology_raw VALUES (%s, %s)\", mapping[i * K: (i + 1) * K])\n",
    "    db2.commit()"
   ]
  },
  {
   "cell_type": "code",
   "execution_count": 13,
   "metadata": {},
   "outputs": [
    {
     "data": {
      "application/vnd.jupyter.widget-view+json": {
       "model_id": "d1e03ba2623046aa8835b97a8c062212",
       "version_major": 2,
       "version_minor": 0
      },
      "text/plain": [
       "HBox(children=(FloatProgress(value=0.0, max=1716.0), HTML(value='')))"
      ]
     },
     "metadata": {},
     "output_type": "display_data"
    },
    {
     "name": "stdout",
     "output_type": "stream",
     "text": [
      "\n"
     ]
    }
   ],
   "source": [
    "K = 10000\n",
    "for i in tqdm(range(len(result) // K + 1)):\n",
    "    cur2.executemany(\"UPDATE collection SET technology_str = %s WHERE id = %s\", result[i * K: (i + 1) * K])\n",
    "    db2.commit()"
   ]
  },
  {
   "cell_type": "code",
   "execution_count": null,
   "metadata": {},
   "outputs": [],
   "source": []
  },
  {
   "cell_type": "code",
   "execution_count": 6,
   "metadata": {},
   "outputs": [],
   "source": [
    "cur.execute(\"\"\"\n",
    "SELECT obj_id, GROUP_CONCAT(__author_raw.trim_auth SEPARATOR \", \") as text\n",
    "FROM __author_raw\n",
    "GROUP BY __author_raw.obj_id;\n",
    "\"\"\")\n",
    "data = cur.fetchall()"
   ]
  },
  {
   "cell_type": "code",
   "execution_count": 7,
   "metadata": {},
   "outputs": [],
   "source": [
    "result = []\n",
    "mapping = {}\n",
    "for idx, value in data:\n",
    "    if value not in mapping:\n",
    "        mapping[value] = len(mapping)\n",
    "    result.append((mapping.get(value), idx))"
   ]
  },
  {
   "cell_type": "code",
   "execution_count": 8,
   "metadata": {},
   "outputs": [
    {
     "data": {
      "text/plain": [
       "(4430700, 718062)"
      ]
     },
     "execution_count": 8,
     "metadata": {},
     "output_type": "execute_result"
    }
   ],
   "source": [
    "mapping = [(value, key) for key, value in mapping.items()]\n",
    "len(result), len(mapping)"
   ]
  },
  {
   "cell_type": "code",
   "execution_count": 9,
   "metadata": {},
   "outputs": [
    {
     "data": {
      "application/vnd.jupyter.widget-view+json": {
       "model_id": "508293f57a154b3baacb4dfb879348c3",
       "version_major": 2,
       "version_minor": 0
      },
      "text/plain": [
       "HBox(children=(FloatProgress(value=0.0, max=72.0), HTML(value='')))"
      ]
     },
     "metadata": {},
     "output_type": "display_data"
    },
    {
     "name": "stdout",
     "output_type": "stream",
     "text": [
      "\n"
     ]
    }
   ],
   "source": [
    "K = 10000\n",
    "for i in tqdm(range(len(mapping) // K + 1)):\n",
    "    cur2.executemany(\"INSERT INTO author_raw VALUES (%s, %s)\", mapping[i * K: (i + 1) * K])\n",
    "    db2.commit()"
   ]
  },
  {
   "cell_type": "code",
   "execution_count": 10,
   "metadata": {},
   "outputs": [
    {
     "data": {
      "application/vnd.jupyter.widget-view+json": {
       "model_id": "f5e9dded83494737b06bc8955304dd3a",
       "version_major": 2,
       "version_minor": 0
      },
      "text/plain": [
       "HBox(children=(FloatProgress(value=0.0, max=45.0), HTML(value='')))"
      ]
     },
     "metadata": {},
     "output_type": "display_data"
    },
    {
     "name": "stdout",
     "output_type": "stream",
     "text": [
      "\n"
     ]
    }
   ],
   "source": [
    "K = 100000\n",
    "for i in tqdm(range(len(result) // K + 1)):\n",
    "    cur2.executemany(\"UPDATE collection SET author_str = %s WHERE id = %s\", result[i * K: (i + 1) * K])\n",
    "    db2.commit()"
   ]
  },
  {
   "cell_type": "code",
   "execution_count": 5,
   "metadata": {},
   "outputs": [],
   "source": [
    "cur.execute(\"SELECT startYear, startMonth, startDay, finishYear, finishMonth, finishDay, sure, id FROM time WHERE id > 14396904 AND (startYear IS NOT NULL OR finishYear IS NOT NULL)\")\n",
    "data = cur.fetchall()"
   ]
  },
  {
   "cell_type": "code",
   "execution_count": 7,
   "metadata": {},
   "outputs": [
    {
     "data": {
      "text/plain": [
       "9268361"
      ]
     },
     "execution_count": 7,
     "metadata": {},
     "output_type": "execute_result"
    }
   ],
   "source": [
    "len(data)"
   ]
  },
  {
   "cell_type": "code",
   "execution_count": 23,
   "metadata": {},
   "outputs": [
    {
     "data": {
      "application/vnd.jupyter.widget-view+json": {
       "model_id": "18885faeab744907809917b46cc8c856",
       "version_major": 2,
       "version_minor": 0
      },
      "text/plain": [
       "HBox(children=(FloatProgress(value=0.0, max=622.0), HTML(value='')))"
      ]
     },
     "metadata": {},
     "output_type": "display_data"
    },
    {
     "name": "stdout",
     "output_type": "stream",
     "text": [
      "(1850, 500, 1, 1900, 12, 31, 3, 17884058)\n",
      "(1985, 100, 1, 1985, 100, 1, 3, 22621297)\n",
      "(1932, 100, 1, 1940, 12, 31, 3, 22986740)\n",
      "(1914, 100, 1, 1917, 12, 31, 3, 24674734)\n",
      "\n"
     ]
    }
   ],
   "source": [
    "K = 10000\n",
    "for i in tqdm(range(305, len(data) // K + 1)):\n",
    "    subres = []\n",
    "    for row in data[i * K: (i + 1) * K]:\n",
    "        y, m, d, y2, m2, d2, s, idx = row\n",
    "        if (m is not None and m > 12) or (m2 is not None and m2 > 12):\n",
    "            print(row)\n",
    "        else:\n",
    "            subres.append(row)\n",
    "    cur2.executemany(\"\"\"\n",
    "    UPDATE collection SET \n",
    "    startYear = %s, startMonth = %s, startDay = %s, \n",
    "    finishYear = %s, finishMonth = %s, finishDay = %s, time_sure = %s\n",
    "    WHERE id = %s\"\"\", subres)\n",
    "    db2.commit()"
   ]
  },
  {
   "cell_type": "code",
   "execution_count": 20,
   "metadata": {},
   "outputs": [],
   "source": [
    "# data[i * K: (i + 1) * K]"
   ]
  },
  {
   "cell_type": "code",
   "execution_count": null,
   "metadata": {},
   "outputs": [],
   "source": [
    "# for row in data[i * K: (i + 1) * K]:\n",
    "#     y, m, d, y2, m2, d2, s, idx = row\n",
    "# #     print(row)\n",
    "# #     break\n",
    "#     if m is None or m > 12 or m < 1 or m2 is None or m2 > 12 or m2 < 1:\n",
    "#         print(y, m, d, y2, m2, d2, s, idx)"
   ]
  },
  {
   "cell_type": "code",
   "execution_count": null,
   "metadata": {},
   "outputs": [],
   "source": [
    "# cur2.executemany(\"\"\"\n",
    "# UPDATE collection SET \n",
    "# startYear = %s, startMonth = %s, startDay = %s, \n",
    "# finishYear = %s, finishMonth = %s, finishDay = %s, time_sure = %s\n",
    "# WHERE id = %s\n",
    "# \"\"\", data)\n",
    "# db2.commit()"
   ]
  },
  {
   "cell_type": "code",
   "execution_count": 6,
   "metadata": {},
   "outputs": [],
   "source": [
    "df = pd.read_sql_query(\"SELECT * FROM author_name\", con=db2)"
   ]
  },
  {
   "cell_type": "code",
   "execution_count": 9,
   "metadata": {},
   "outputs": [],
   "source": [
    "ru = set(\"абвгдежзийклмнопрстуфхцчшщъыьэюя\")\n",
    "en = set(\"abcdefghijklmnopqrstuvwxyz\")\n",
    "\n",
    "def to_ru(x):\n",
    "    if x is None:\n",
    "        return None\n",
    "    let = set(x)\n",
    "    \n",
    "    if \",\" in x:\n",
    "        new_x = x.replace(\",\", \"\")\n",
    "    else:\n",
    "        new_x = \" \".join([x.split()[-1]] + x.split()[:-1])\n",
    "\n",
    "    if len(let & ru) > len(let & en):\n",
    "        return new_x\n",
    "    else:\n",
    "        return translit(new_x, language_code=\"ru\")"
   ]
  },
  {
   "cell_type": "code",
   "execution_count": 12,
   "metadata": {},
   "outputs": [],
   "source": [
    "df[\"order_name\"] = df[\"name_ru\"].apply(to_ru)"
   ]
  },
  {
   "cell_type": "code",
   "execution_count": 19,
   "metadata": {},
   "outputs": [],
   "source": [
    "cur2.executemany(\"UPDATE author_name SET order_name = %s WHERE author_id = %s\", df[[\"order_name\", \"author_id\"]].values.tolist())\n",
    "db2.commit()"
   ]
  },
  {
   "cell_type": "code",
   "execution_count": 20,
   "metadata": {},
   "outputs": [],
   "source": [
    "df = pd.read_sql_query(\"\"\"\n",
    "SELECT count(authors.id) as n, author_name.author_id\n",
    "FROM author_name\n",
    "JOIN authors ON author_name.author_id = authors.author_id\n",
    "GROUP BY author_name.author_id\n",
    "ORDER BY author_name.author_id;\"\"\", con=db2)"
   ]
  },
  {
   "cell_type": "code",
   "execution_count": 22,
   "metadata": {},
   "outputs": [],
   "source": [
    "cur2.executemany(\"UPDATE author_name SET n = %s WHERE author_id = %s\", df.values.tolist())\n",
    "db2.commit()"
   ]
  },
  {
   "cell_type": "code",
   "execution_count": 59,
   "metadata": {},
   "outputs": [],
   "source": [
    "df = pd.read_sql_query(\"\"\"\n",
    "SELECT name_0, name_1, sum(cnt) as cnt FROM geo_wiki \n",
    "WHERE name_0 IS NOT NULL\n",
    "GROUP BY name_0, name_1\n",
    "ORDER BY name_0, name_1;\"\"\", con=db2)"
   ]
  },
  {
   "cell_type": "code",
   "execution_count": 60,
   "metadata": {},
   "outputs": [
    {
     "data": {
      "text/html": [
       "<div>\n",
       "<style scoped>\n",
       "    .dataframe tbody tr th:only-of-type {\n",
       "        vertical-align: middle;\n",
       "    }\n",
       "\n",
       "    .dataframe tbody tr th {\n",
       "        vertical-align: top;\n",
       "    }\n",
       "\n",
       "    .dataframe thead th {\n",
       "        text-align: right;\n",
       "    }\n",
       "</style>\n",
       "<table border=\"1\" class=\"dataframe\">\n",
       "  <thead>\n",
       "    <tr style=\"text-align: right;\">\n",
       "      <th></th>\n",
       "      <th>name_0</th>\n",
       "      <th>name_1</th>\n",
       "      <th>cnt</th>\n",
       "    </tr>\n",
       "  </thead>\n",
       "  <tbody>\n",
       "    <tr>\n",
       "      <th>0</th>\n",
       "      <td>Afghanistan</td>\n",
       "      <td>None</td>\n",
       "      <td>4334.0</td>\n",
       "    </tr>\n",
       "    <tr>\n",
       "      <th>1</th>\n",
       "      <td>Afghanistan</td>\n",
       "      <td>Badakhshan</td>\n",
       "      <td>7.0</td>\n",
       "    </tr>\n",
       "    <tr>\n",
       "      <th>2</th>\n",
       "      <td>Afghanistan</td>\n",
       "      <td>Badghis</td>\n",
       "      <td>2.0</td>\n",
       "    </tr>\n",
       "    <tr>\n",
       "      <th>3</th>\n",
       "      <td>Afghanistan</td>\n",
       "      <td>Baghlan</td>\n",
       "      <td>39.0</td>\n",
       "    </tr>\n",
       "    <tr>\n",
       "      <th>4</th>\n",
       "      <td>Afghanistan</td>\n",
       "      <td>Balkh</td>\n",
       "      <td>816.0</td>\n",
       "    </tr>\n",
       "  </tbody>\n",
       "</table>\n",
       "</div>"
      ],
      "text/plain": [
       "        name_0      name_1     cnt\n",
       "0  Afghanistan        None  4334.0\n",
       "1  Afghanistan  Badakhshan     7.0\n",
       "2  Afghanistan     Badghis     2.0\n",
       "3  Afghanistan     Baghlan    39.0\n",
       "4  Afghanistan       Balkh   816.0"
      ]
     },
     "execution_count": 60,
     "metadata": {},
     "output_type": "execute_result"
    }
   ],
   "source": [
    "df.head()"
   ]
  },
  {
   "cell_type": "code",
   "execution_count": 5,
   "metadata": {},
   "outputs": [],
   "source": [
    "from collections import defaultdict\n",
    "import json"
   ]
  },
  {
   "cell_type": "code",
   "execution_count": 62,
   "metadata": {},
   "outputs": [],
   "source": [
    "data = defaultdict(list)\n",
    "\n",
    "for country, region, cnt in df.values.tolist():\n",
    "    if region:\n",
    "        data[country].append(region)\n",
    "    else:\n",
    "        data[country] = []"
   ]
  },
  {
   "cell_type": "code",
   "execution_count": 57,
   "metadata": {},
   "outputs": [
    {
     "data": {
      "text/plain": [
       "defaultdict(list,\n",
       "            {'Afghanistan': ['Badakhshan',\n",
       "              'Badghis',\n",
       "              'Baghlan',\n",
       "              'Balkh',\n",
       "              'Bamyan',\n",
       "              'Daykundi',\n",
       "              'Farah',\n",
       "              'Faryab',\n",
       "              'Ghazni',\n",
       "              'Ghor',\n",
       "              'Hilmand',\n",
       "              'Hirat',\n",
       "              'Jawzjan',\n",
       "              'Kabul',\n",
       "              'Kandahar',\n",
       "              'Kapisa',\n",
       "              'Kunar',\n",
       "              'Kunduz',\n",
       "              'Nangarhar',\n",
       "              'Nimroz',\n",
       "              'Nuristan',\n",
       "              'Paktya',\n",
       "              'Panjshir',\n",
       "              'Parwan',\n",
       "              'Sari Pul',\n",
       "              'Takhar',\n",
       "              'Wardak',\n",
       "              'Zabul'],\n",
       "             'Åland': ['Finström', 'Mariehamn'],\n",
       "             'Albania': ['Berat',\n",
       "              'Dibër',\n",
       "              'Durrës',\n",
       "              'Fier',\n",
       "              'Korçë',\n",
       "              'Lezhë',\n",
       "              'Shkodër',\n",
       "              'Tiranë',\n",
       "              'Vlorë'],\n",
       "             'Algeria': ['Alger',\n",
       "              'Annaba',\n",
       "              'Batna',\n",
       "              'Béchar',\n",
       "              'Biskra',\n",
       "              'Constantine',\n",
       "              'Khenchela',\n",
       "              'Oran',\n",
       "              'Ouargla',\n",
       "              'Sétif',\n",
       "              'Tiaret',\n",
       "              'Tlemcen'],\n",
       "             'American Samoa': ['Eastern'],\n",
       "             'Andorra': ['Andorra la Vella'],\n",
       "             'Angola': ['Cabinda', 'Huíla', 'Luanda', 'Zaire'],\n",
       "             'Antarctica': [],\n",
       "             'Antigua and Barbuda': [],\n",
       "             'Argentina': ['Buenos Aires',\n",
       "              'Catamarca',\n",
       "              'Chaco',\n",
       "              'Ciudad de Buenos Aires',\n",
       "              'Córdoba',\n",
       "              'Misiones',\n",
       "              'Río Negro',\n",
       "              'Salta',\n",
       "              'Santa Cruz',\n",
       "              'Santa Fe',\n",
       "              'Santiago del Estero',\n",
       "              'Tierra del Fuego',\n",
       "              'Tucumán'],\n",
       "             'Armenia': ['Aragatsotn',\n",
       "              'Ararat',\n",
       "              'Armavir',\n",
       "              'Erevan',\n",
       "              'Gegharkunik',\n",
       "              'Kotayk',\n",
       "              'Lori',\n",
       "              'Shirak',\n",
       "              'Syunik',\n",
       "              'Tavush',\n",
       "              'Vayots Dzor'],\n",
       "             'Aruba': [],\n",
       "             'Australia': ['Australian Capital Territory',\n",
       "              'New South Wales',\n",
       "              'Northern Territory',\n",
       "              'Queensland',\n",
       "              'South Australia',\n",
       "              'Tasmania',\n",
       "              'Victoria',\n",
       "              'Western Australia'],\n",
       "             'Austria': ['Burgenland',\n",
       "              'Kärnten',\n",
       "              'Niederösterreich',\n",
       "              'Oberösterreich',\n",
       "              'Salzburg',\n",
       "              'Steiermark',\n",
       "              'Tirol',\n",
       "              'Vorarlberg',\n",
       "              'Wien'],\n",
       "             'Azerbaijan': ['Absheron',\n",
       "              'Aran',\n",
       "              'Daglig-Shirvan',\n",
       "              'Ganja-Qazakh',\n",
       "              'Kalbajar-Lachin',\n",
       "              'Lankaran',\n",
       "              'Nakhchivan',\n",
       "              'Quba-Khachmaz',\n",
       "              'Shaki-Zaqatala',\n",
       "              'Yukhari-Karabakh'],\n",
       "             'Bahamas': ['New Providence'],\n",
       "             'Bahrain': ['Capital'],\n",
       "             'Bangladesh': ['Chittagong',\n",
       "              'Dhaka',\n",
       "              'Khulna',\n",
       "              'Rajshahi',\n",
       "              'Rangpur'],\n",
       "             'Barbados': [],\n",
       "             'Belarus': ['Brest',\n",
       "              \"Homyel'\",\n",
       "              'Hrodna',\n",
       "              'Mahilyow',\n",
       "              'Minsk',\n",
       "              'Vitsyebsk'],\n",
       "             'Belgium': ['Bruxelles', 'Vlaanderen', 'Wallonie'],\n",
       "             'Belize': ['Cayo'],\n",
       "             'Benin': ['Alibori', 'Borgou', 'Littoral', 'Ouémé', 'Zou'],\n",
       "             'Bermuda': ['Devonshire'],\n",
       "             'Bhutan': ['Thimphu'],\n",
       "             'Bolivia': ['La Paz', 'Potosí', 'Santa Cruz'],\n",
       "             'Bosnia and Herzegovina': ['Federacija Bosna i Hercegovina',\n",
       "              'Repuplika Srpska'],\n",
       "             'Botswana': ['North-West'],\n",
       "             'Brazil': ['Amazonas',\n",
       "              'Bahia',\n",
       "              'Distrito Federal',\n",
       "              'Goiás',\n",
       "              'Mato Grosso',\n",
       "              'Mato Grosso do Sul',\n",
       "              'Minas Gerais',\n",
       "              'Pará',\n",
       "              'Paraíba',\n",
       "              'Paraná',\n",
       "              'Pernambuco',\n",
       "              'Rio de Janeiro',\n",
       "              'Rio Grande do Norte',\n",
       "              'Rio Grande do Sul',\n",
       "              'Santa Catarina',\n",
       "              'São Paulo',\n",
       "              'Tocantins'],\n",
       "             'Brunei': [],\n",
       "             'Bulgaria': ['Blagoevgrad',\n",
       "              'Burgas',\n",
       "              'Dobrich',\n",
       "              'Gabrovo',\n",
       "              'Grad Sofiya',\n",
       "              'Haskovo',\n",
       "              'Kardzhali',\n",
       "              'Kyustendil',\n",
       "              'Lovech',\n",
       "              'Montana',\n",
       "              'Pazardzhik',\n",
       "              'Pernik',\n",
       "              'Pleven',\n",
       "              'Plovdiv',\n",
       "              'Razgrad',\n",
       "              'Ruse',\n",
       "              'Shumen',\n",
       "              'Silistra',\n",
       "              'Sliven',\n",
       "              'Smolyan',\n",
       "              'Sofia',\n",
       "              'Stara Zagora',\n",
       "              'Targovishte',\n",
       "              'Varna',\n",
       "              'Veliko Tarnovo',\n",
       "              'Vidin',\n",
       "              'Vratsa',\n",
       "              'Yambol'],\n",
       "             'Burkina Faso': ['Boucle du Mouhoun',\n",
       "              'Centre-Sud',\n",
       "              'Haut-Bassins'],\n",
       "             'Burundi': ['Bujumbura Mairie', 'Gitega', 'Muramvya'],\n",
       "             'Cambodia': ['Kâmpóng Cham',\n",
       "              'Kâmpóng Thum',\n",
       "              'Phnom Penh',\n",
       "              'Pouthisat',\n",
       "              'Siemréab',\n",
       "              'Takêv',\n",
       "              'Tbong Khmum'],\n",
       "             'Cameroon': ['Centre', 'Nord', 'Nord-Ouest', 'Sud', 'Sud-Ouest'],\n",
       "             'Canada': ['Alberta',\n",
       "              'British Columbia',\n",
       "              'Manitoba',\n",
       "              'New Brunswick',\n",
       "              'Newfoundland and Labrador',\n",
       "              'Northwest Territories',\n",
       "              'Nova Scotia',\n",
       "              'Nunavut',\n",
       "              'Ontario',\n",
       "              'Québec',\n",
       "              'Saskatchewan',\n",
       "              'Yukon'],\n",
       "             'Caspian Sea': [],\n",
       "             'Central African Republic': ['Basse-Kotto',\n",
       "              'Nana-Grébizi',\n",
       "              'Nana-Mambéré',\n",
       "              \"Ombella-M'Poko\",\n",
       "              'Ouaka'],\n",
       "             'Chad': ['Kanem', 'Moyen-Chari', \"Ville de N'Djamena\"],\n",
       "             'Chile': ['Arica y Parinacota',\n",
       "              'Atacama',\n",
       "              'Bío-Bío',\n",
       "              'Magallanes y Antártica Chilena',\n",
       "              'Región Metropolitana de Santiago',\n",
       "              'Valparaíso'],\n",
       "             'China': ['Anhui',\n",
       "              'Beijing',\n",
       "              'Chongqing',\n",
       "              'Fujian',\n",
       "              'Gansu',\n",
       "              'Guangdong',\n",
       "              'Guangxi',\n",
       "              'Guizhou',\n",
       "              'Hainan',\n",
       "              'Hebei',\n",
       "              'Heilongjiang',\n",
       "              'Henan',\n",
       "              'Hubei',\n",
       "              'Hunan',\n",
       "              'Jiangsu',\n",
       "              'Jiangxi',\n",
       "              'Jilin',\n",
       "              'Liaoning',\n",
       "              'Nei Mongol',\n",
       "              'Ningxia Hui',\n",
       "              'Qinghai',\n",
       "              'Shaanxi',\n",
       "              'Shandong',\n",
       "              'Shanghai',\n",
       "              'Shanxi',\n",
       "              'Sichuan',\n",
       "              'Tianjin',\n",
       "              'Xinjiang Uygur',\n",
       "              'Xizang',\n",
       "              'Yunnan',\n",
       "              'Zhejiang'],\n",
       "             'Cocos Islands': [],\n",
       "             'Colombia': ['Antioquia',\n",
       "              'Bolívar',\n",
       "              'Chocó',\n",
       "              'Cundinamarca',\n",
       "              'Huila',\n",
       "              'Norte de Santander',\n",
       "              'Valle del Cauca'],\n",
       "             'Comoros': [],\n",
       "             'Cook Islands': [],\n",
       "             'Costa Rica': ['Heredia', 'San José'],\n",
       "             \"Côte d'Ivoire\": ['Comoé', 'Denguélé'],\n",
       "             'Croatia': ['Brodsko-Posavska',\n",
       "              'Dubrovacko-Neretvanska',\n",
       "              'Grad Zagreb',\n",
       "              'Istarska',\n",
       "              'Koprivničko-Križevačka',\n",
       "              'Krapinsko-Zagorska',\n",
       "              'Licko-Senjska',\n",
       "              'Osjecko-Baranjska',\n",
       "              'Primorsko-Goranska',\n",
       "              'Šibensko-Kninska',\n",
       "              'Sisacko-Moslavacka',\n",
       "              'Splitsko-Dalmatinska',\n",
       "              'Varaždinska',\n",
       "              'Viroviticko-Podravska',\n",
       "              'Zadarska'],\n",
       "             'Cuba': ['Camagüey',\n",
       "              'Cienfuegos',\n",
       "              'Ciudad de la Habana',\n",
       "              'Granma',\n",
       "              'Guantánamo',\n",
       "              'Holguín',\n",
       "              'La Habana',\n",
       "              'Matanzas',\n",
       "              'Pinar del Río',\n",
       "              'Sancti Spíritus',\n",
       "              'Santiago de Cuba',\n",
       "              'Villa Clara'],\n",
       "             'Cyprus': ['Famagusta',\n",
       "              'Larnaca',\n",
       "              'Limassol',\n",
       "              'Nicosia',\n",
       "              'Paphos'],\n",
       "             'Czech Republic': ['Jihočeský',\n",
       "              'Jihomoravský',\n",
       "              'Karlovarský',\n",
       "              'Kraj Vysočina',\n",
       "              'Královéhradecký',\n",
       "              'Liberecký',\n",
       "              'Moravskoslezský',\n",
       "              'Olomoucký',\n",
       "              'Pardubický',\n",
       "              'Plzeňský',\n",
       "              'Prague',\n",
       "              'Středočeský',\n",
       "              'Ústecký',\n",
       "              'Zlínský'],\n",
       "             'Democratic Republic of the Congo': ['Haut-Katanga',\n",
       "              'Haut-Lomami',\n",
       "              'Haut-Uélé',\n",
       "              'Kasaï-Central',\n",
       "              'Kinshasa',\n",
       "              'Kongo-Central',\n",
       "              'Kwilu',\n",
       "              'Lualaba',\n",
       "              'Maniema',\n",
       "              'Sankuru',\n",
       "              'Tshopo'],\n",
       "             'Denmark': ['Hovedstaden',\n",
       "              'Midtjylland',\n",
       "              'Nordjylland',\n",
       "              'Sjælland',\n",
       "              'Syddanmark'],\n",
       "             'Djibouti': [],\n",
       "             'Dominican Republic': ['Distrito Nacional',\n",
       "              'La Altagracia',\n",
       "              'San Juan',\n",
       "              'San Pedro de Macorís',\n",
       "              'Sánchez Ramírez'],\n",
       "             'Ecuador': ['Esmeraldas', 'Guayas', 'Pichincha'],\n",
       "             'Egypt': ['Al Bahr al Ahmar',\n",
       "              'Al Buhayrah',\n",
       "              'Al Fayyum',\n",
       "              'Al Gharbiyah',\n",
       "              'Al Iskandariyah',\n",
       "              'Al Isma`iliyah',\n",
       "              'Al Jizah',\n",
       "              'Al Minya',\n",
       "              'Al Qahirah',\n",
       "              'Al Qalyubiyah',\n",
       "              'Al Uqsur',\n",
       "              'Al Wadi al Jadid',\n",
       "              'As Suways',\n",
       "              'Ash Sharqiyah',\n",
       "              'Aswan',\n",
       "              'Bur Sa`id',\n",
       "              \"Janub Sina'\",\n",
       "              'Matrouh',\n",
       "              'Qina',\n",
       "              \"Shamal Sina'\",\n",
       "              'Suhaj'],\n",
       "             'El Salvador': ['San Salvador'],\n",
       "             'Equatorial Guinea': ['Bioko Norte', 'Wele-Nzas'],\n",
       "             'Eritrea': ['Anseba', 'Debub', 'Maekel', 'Semenawi Keyih Bahri'],\n",
       "             'Estonia': ['Harju',\n",
       "              'Hiiu',\n",
       "              'Ida-Viru',\n",
       "              'Järva',\n",
       "              'Jõgeva',\n",
       "              'Lääne',\n",
       "              'Lääne-Viru',\n",
       "              'Pärnu',\n",
       "              'Põlva',\n",
       "              'Saare',\n",
       "              'Tartu',\n",
       "              'Valga',\n",
       "              'Viljandi',\n",
       "              'Võru'],\n",
       "             'Ethiopia': ['Addis Abeba',\n",
       "              'Amhara',\n",
       "              'Benshangul-Gumaz',\n",
       "              'Harari People',\n",
       "              'Oromia',\n",
       "              'Somali',\n",
       "              'Southern Nations, Nationalities and Peoples',\n",
       "              'Tigray'],\n",
       "             'Falkland Islands': [],\n",
       "             'Fiji': ['Central', 'Eastern', 'Western'],\n",
       "             'Finland': ['Eastern Finland',\n",
       "              'Lapland',\n",
       "              'Oulu',\n",
       "              'Southern Finland',\n",
       "              'Western Finland'],\n",
       "             'France': ['Auvergne-Rhône-Alpes',\n",
       "              'Bourgogne-Franche-Comté',\n",
       "              'Bretagne',\n",
       "              'Centre-Val de Loire',\n",
       "              'Corse',\n",
       "              'Grand Est',\n",
       "              'Hauts-de-France',\n",
       "              'Île-de-France',\n",
       "              'Normandie',\n",
       "              'Nouvelle-Aquitaine',\n",
       "              'Occitanie',\n",
       "              'Pays de la Loire',\n",
       "              \"Provence-Alpes-Côte d'Azur\"],\n",
       "             'French Guiana': ['Cayenne', 'Saint-Laurent-du-Maroni'],\n",
       "             'French Polynesia': ['Îles du Vent'],\n",
       "             'French Southern Territories': ['Kerguelen'],\n",
       "             'Gabon': ['Moyen-Ogooué'],\n",
       "             'Gambia': [],\n",
       "             'Georgia': ['Abkhazia',\n",
       "              'Ajaria',\n",
       "              'Guria',\n",
       "              'Imereti',\n",
       "              'Kakheti',\n",
       "              'Kvemo Kartli',\n",
       "              'Mtskheta-Mtianeti',\n",
       "              'Racha-Lechkhumi-Kvemo Svaneti',\n",
       "              'Samegrelo-Zemo Svaneti',\n",
       "              'Samtskhe-Javakheti',\n",
       "              'Shida Kartli',\n",
       "              'Tbilisi'],\n",
       "             'Germany': ['Baden-Württemberg',\n",
       "              'Bayern',\n",
       "              'Berlin',\n",
       "              'Brandenburg',\n",
       "              'Bremen',\n",
       "              'Hamburg',\n",
       "              'Hessen',\n",
       "              'Mecklenburg-Vorpommern',\n",
       "              'Niedersachsen',\n",
       "              'Nordrhein-Westfalen',\n",
       "              'Rheinland-Pfalz',\n",
       "              'Saarland',\n",
       "              'Sachsen',\n",
       "              'Sachsen-Anhalt',\n",
       "              'Schleswig-Holstein',\n",
       "              'Thüringen'],\n",
       "             'Ghana': ['Ashanti', 'Central', 'Greater Accra', 'Northern'],\n",
       "             'Gibraltar': [],\n",
       "             'Greece': ['Aegean',\n",
       "              'Athos',\n",
       "              'Attica',\n",
       "              'Crete',\n",
       "              'Epirus and Western Macedonia',\n",
       "              'Macedonia and Thrace',\n",
       "              'Peloponnese, Western Greece and the Ionian Islands',\n",
       "              'Thessaly and Central Greece'],\n",
       "             'Greenland': ['Qaasuitsup', 'Sermersooq'],\n",
       "             'Grenada': [],\n",
       "             'Guadeloupe': ['Basse-Terre'],\n",
       "             'Guatemala': ['Baja Verapaz'],\n",
       "             'Guernsey': ['Alderney', 'Saint Andrew'],\n",
       "             'Guinea': ['Conakry', 'Faranah', 'Kankan', 'Mamou'],\n",
       "             'Guinea-Bissau': ['Biombo'],\n",
       "             'Guyana': ['Barima-Waini', 'Demerara-Mahaica'],\n",
       "             'Haiti': ['Nord-Ouest', 'Ouest'],\n",
       "             'Honduras': ['Francisco Morazán'],\n",
       "             'Hong Kong': ['Central and Western',\n",
       "              'Kowloon City',\n",
       "              'North',\n",
       "              'Tai Po',\n",
       "              'Yau Tsim Mong'],\n",
       "             'Hungary': ['Bács-Kiskun',\n",
       "              'Baranya',\n",
       "              'Békés',\n",
       "              'Borsod-Abaúj-Zemplén',\n",
       "              'Budapest',\n",
       "              'Csongrád',\n",
       "              'Fejér',\n",
       "              'Gyor-Moson-Sopron',\n",
       "              'Hajdú-Bihar',\n",
       "              'Heves',\n",
       "              'Jász-Nagykun-Szolnok',\n",
       "              'Komárom-Esztergom',\n",
       "              'Nógrád',\n",
       "              'Pest',\n",
       "              'Somogy',\n",
       "              'Szabolcs-Szatmár-Bereg',\n",
       "              'Tolna',\n",
       "              'Vas',\n",
       "              'Veszprém',\n",
       "              'Zala'],\n",
       "             'Iceland': ['Hálshreppur',\n",
       "              'Höfuðborgarsvæði',\n",
       "              'Suðurland',\n",
       "              'Vesturland'],\n",
       "             'India': ['Andaman and Nicobar',\n",
       "              'Andhra Pradesh',\n",
       "              'Assam',\n",
       "              'Bihar',\n",
       "              'Chandigarh',\n",
       "              'Chhattisgarh',\n",
       "              'Goa',\n",
       "              'Gujarat',\n",
       "              'Haryana',\n",
       "              'Himachal Pradesh',\n",
       "              'Jammu and Kashmir',\n",
       "              'Jharkhand',\n",
       "              'Karnataka',\n",
       "              'Kerala',\n",
       "              'Madhya Pradesh',\n",
       "              'Maharashtra',\n",
       "              'Manipur',\n",
       "              'Meghalaya',\n",
       "              'Nagaland',\n",
       "              'NCT of Delhi',\n",
       "              'Odisha',\n",
       "              'Puducherry',\n",
       "              'Punjab',\n",
       "              'Rajasthan',\n",
       "              'Tamil Nadu',\n",
       "              'Telangana',\n",
       "              'Tripura',\n",
       "              'Uttar Pradesh',\n",
       "              'Uttarakhand',\n",
       "              'West Bengal'],\n",
       "             'Indonesia': ['Aceh',\n",
       "              'Bali',\n",
       "              'Banten',\n",
       "              'Jakarta Raya',\n",
       "              'Jawa Barat',\n",
       "              'Jawa Tengah',\n",
       "              'Jawa Timur',\n",
       "              'Kalimantan Barat',\n",
       "              'Kalimantan Timur',\n",
       "              'Lampung',\n",
       "              'Maluku',\n",
       "              'Nusa Tenggara Barat',\n",
       "              'Nusa Tenggara Timur',\n",
       "              'Papua',\n",
       "              'Papua Barat',\n",
       "              'Riau',\n",
       "              'Sulawesi Selatan',\n",
       "              'Sulawesi Tengah',\n",
       "              'Sulawesi Tenggara',\n",
       "              'Sulawesi Utara',\n",
       "              'Sumatera Barat',\n",
       "              'Sumatera Selatan',\n",
       "              'Sumatera Utara',\n",
       "              'Yogyakarta'],\n",
       "             'Iran': ['Alborz',\n",
       "              'Ardebil',\n",
       "              'East Azarbaijan',\n",
       "              'Esfahan',\n",
       "              'Fars',\n",
       "              'Gilan',\n",
       "              'Golestan',\n",
       "              'Hamadan',\n",
       "              'Hormozgan',\n",
       "              'Kerman',\n",
       "              'Kermanshah',\n",
       "              'Khuzestan',\n",
       "              'Kordestan',\n",
       "              'Lorestan',\n",
       "              'Markazi',\n",
       "              'Mazandaran',\n",
       "              'North Khorasan',\n",
       "              'Qazvin',\n",
       "              'Razavi Khorasan',\n",
       "              'Semnan',\n",
       "              'Sistan and Baluchestan',\n",
       "              'Tehran',\n",
       "              'West Azarbaijan',\n",
       "              'Yazd',\n",
       "              'Zanjan'],\n",
       "             'Iraq': ['Al-Anbar',\n",
       "              'Al-Basrah',\n",
       "              'Al-Qadisiyah',\n",
       "              'Arbil',\n",
       "              \"At-Ta'mim\",\n",
       "              'Babil',\n",
       "              'Baghdad',\n",
       "              'Dhi-Qar',\n",
       "              'Diyala',\n",
       "              \"Karbala'\",\n",
       "              'Ninawa',\n",
       "              'Wasit'],\n",
       "             'Ireland': ['Cavan',\n",
       "              'Cork',\n",
       "              'Dublin',\n",
       "              'Kerry',\n",
       "              'Kildare',\n",
       "              'Kilkenny',\n",
       "              'Leitrim',\n",
       "              'Limerick',\n",
       "              'Monaghan',\n",
       "              'Roscommon',\n",
       "              'Tipperary',\n",
       "              'Waterford',\n",
       "              'Westmeath',\n",
       "              'Wicklow'],\n",
       "             'Isle of Man': ['Middle'],\n",
       "             'Israel': ['HaDarom',\n",
       "              'Haifa',\n",
       "              'HaMerkaz',\n",
       "              'HaZafon',\n",
       "              'Jerusalem',\n",
       "              'Tel Aviv'],\n",
       "             'Italy': ['Abruzzo',\n",
       "              'Apulia',\n",
       "              'Basilicata',\n",
       "              'Calabria',\n",
       "              'Campania',\n",
       "              'Emilia-Romagna',\n",
       "              'Friuli-Venezia Giulia',\n",
       "              'Lazio',\n",
       "              'Liguria',\n",
       "              'Lombardia',\n",
       "              'Marche',\n",
       "              'Molise',\n",
       "              'Piemonte',\n",
       "              'Sardegna',\n",
       "              'Sicily',\n",
       "              'Toscana',\n",
       "              'Trentino-Alto Adige',\n",
       "              'Umbria',\n",
       "              \"Valle d'Aosta\",\n",
       "              'Veneto'],\n",
       "             'Jamaica': ['Kingston'],\n",
       "             'Japan': ['Aichi',\n",
       "              'Akita',\n",
       "              'Aomori',\n",
       "              'Chiba',\n",
       "              'Ehime',\n",
       "              'Fukui',\n",
       "              'Fukuoka',\n",
       "              'Fukushima',\n",
       "              'Gifu',\n",
       "              'Gunma',\n",
       "              'Hiroshima',\n",
       "              'Hokkaido',\n",
       "              'Hyōgo',\n",
       "              'Ibaraki',\n",
       "              'Ishikawa',\n",
       "              'Iwate',\n",
       "              'Kagawa',\n",
       "              'Kagoshima',\n",
       "              'Kanagawa',\n",
       "              'Kochi',\n",
       "              'Kumamoto',\n",
       "              'Kyoto',\n",
       "              'Mie',\n",
       "              'Miyagi',\n",
       "              'Miyazaki',\n",
       "              'Nagano',\n",
       "              'Naoasaki',\n",
       "              'Nara',\n",
       "              'Niigata',\n",
       "              'Okayama',\n",
       "              'Okinawa',\n",
       "              'Osaka',\n",
       "              'Saga',\n",
       "              'Saitama',\n",
       "              'Shiga',\n",
       "              'Shimane',\n",
       "              'Shizuoka',\n",
       "              'Tochigi',\n",
       "              'Tokushima',\n",
       "              'Tokyo',\n",
       "              'Tottori',\n",
       "              'Toyama',\n",
       "              'Yamagata',\n",
       "              'Yamaguchi',\n",
       "              'Yamanashi'],\n",
       "             'Jersey': ['Saint Helier'],\n",
       "             'Jordan': ['Amman', 'Irbid'],\n",
       "             'Kazakhstan': ['Almaty',\n",
       "              'Aqmola',\n",
       "              'Aqtöbe',\n",
       "              'Atyrau',\n",
       "              'East Kazakhstan',\n",
       "              'Mangghystau',\n",
       "              'North Kazakhstan',\n",
       "              'Pavlodar',\n",
       "              'Qaraghandy',\n",
       "              'Qostanay',\n",
       "              'Qyzylorda',\n",
       "              'South Kazakhstan',\n",
       "              'West Kazakhstan',\n",
       "              'Zhambyl'],\n",
       "             'Kenya': ['Laikipia',\n",
       "              'Meru',\n",
       "              'Mombasa',\n",
       "              'Nairobi',\n",
       "              'Turkana',\n",
       "              'Uasin Gishu'],\n",
       "             'Kosovo': ['Gnjilane', 'Pećki', 'Pristina', 'Prizren'],\n",
       "             'Kuwait': ['Al Jahrah', 'Al Kuwayt'],\n",
       "             'Kyrgyzstan': ['Batken',\n",
       "              'Biškek',\n",
       "              'Chüy',\n",
       "              'Jalal-Abad',\n",
       "              'Naryn',\n",
       "              'Osh',\n",
       "              'Osh (city)',\n",
       "              'Talas',\n",
       "              'Ysyk-Köl'],\n",
       "             'Laos': ['Champasak',\n",
       "              'Houaphan',\n",
       "              'Khammouan',\n",
       "              'Louangphrabang',\n",
       "              'Phôngsali',\n",
       "              'Vientiane',\n",
       "              'Vientiane [prefecture]'],\n",
       "             'Latvia': ['Kurzeme', 'Latgale', 'Riga', 'Vidzeme', 'Zemgale'],\n",
       "             'Lebanon': ['Akkar',\n",
       "              'Baalbak - Hermel',\n",
       "              'Beirut',\n",
       "              'Bekaa',\n",
       "              'Mount Lebanon',\n",
       "              'North',\n",
       "              'South'],\n",
       "             'Lesotho': ['Maseru'],\n",
       "             'Liberia': ['GrandGedeh', 'Montserrado'],\n",
       "             'Libya': ['Al Jabal al Akhdar',\n",
       "              'Al Jabal al Gharbi',\n",
       "              'Al Marj',\n",
       "              'Benghazi',\n",
       "              'Ghat',\n",
       "              'Nalut',\n",
       "              'Tripoli'],\n",
       "             'Liechtenstein': ['Balzers', 'Valduz'],\n",
       "             'Lithuania': ['Alytaus',\n",
       "              'Kauno',\n",
       "              'Klaipedos',\n",
       "              'Marijampoles',\n",
       "              'Panevezio',\n",
       "              'Šiauliai',\n",
       "              'Taurages',\n",
       "              'Telšiai',\n",
       "              'Utenos',\n",
       "              'Vilniaus'],\n",
       "             'Luxembourg': ['Grevenmacher', 'Luxembourg'],\n",
       "             'Macao': ['Macau'],\n",
       "             'Macedonia': ['Aerodrom',\n",
       "              'Berovo',\n",
       "              'Bitola',\n",
       "              'Čair',\n",
       "              'Čaška',\n",
       "              'Centar',\n",
       "              'Debar',\n",
       "              'Demir Hisar',\n",
       "              'Demir Kapija',\n",
       "              'Drugovo',\n",
       "              'Gevgelija',\n",
       "              'Gjorče Petrov',\n",
       "              'Gostivar',\n",
       "              'Ilinden',\n",
       "              'Kavadartsi',\n",
       "              'Kratovo',\n",
       "              'Kumanovo',\n",
       "              'Negotino',\n",
       "              'Novatsi',\n",
       "              'Novo Selo',\n",
       "              'Ohrid',\n",
       "              'Radoviš',\n",
       "              'Rosoman',\n",
       "              'Štip',\n",
       "              'Struga',\n",
       "              'Vasilevo',\n",
       "              'Vinitsa'],\n",
       "             'Madagascar': ['Antananarivo', 'Antsiranana', 'Toamasina'],\n",
       "             'Malawi': ['Lilongwe', 'Nkhotakota'],\n",
       "             'Malaysia': ['Johor',\n",
       "              'Kelantan',\n",
       "              'Kuala Lumpur',\n",
       "              'Melaka',\n",
       "              'Pahang',\n",
       "              'Perak',\n",
       "              'Pulau Pinang',\n",
       "              'Sabah',\n",
       "              'Sarawak',\n",
       "              'Selangor',\n",
       "              'Trengganu'],\n",
       "             'Maldives': [],\n",
       "             'Mali': ['Bamako', 'Gao', 'Ségou', 'Sikasso'],\n",
       "             'Malta': ['Nofsinhar', 'Tramuntana', 'Xlokk'],\n",
       "             'Martinique': ['Fort-de-France'],\n",
       "             'Mauritania': ['Hodh ech Chargui'],\n",
       "             'Mauritius': ['Moka', 'Port Louis'],\n",
       "             'Mayotte': ['Acoua'],\n",
       "             'Mexico': ['Aguascalientes',\n",
       "              'Baja California Sur',\n",
       "              'Campeche',\n",
       "              'Chiapas',\n",
       "              'Chihuahua',\n",
       "              'Colima',\n",
       "              'Distrito Federal',\n",
       "              'Durango',\n",
       "              'Guanajuato',\n",
       "              'Guerrero',\n",
       "              'Hidalgo',\n",
       "              'Jalisco',\n",
       "              'México',\n",
       "              'Michoacán',\n",
       "              'Morelos',\n",
       "              'Nayarit',\n",
       "              'Nuevo León',\n",
       "              'Oaxaca',\n",
       "              'Puebla',\n",
       "              'Querétaro',\n",
       "              'Sinaloa',\n",
       "              'Sonora',\n",
       "              'Tabasco',\n",
       "              'Tamaulipas',\n",
       "              'Veracruz',\n",
       "              'Yucatán',\n",
       "              'Zacatecas'],\n",
       "             'Micronesia': ['Yap'],\n",
       "             'Moldova': ['Anenii Noi',\n",
       "              'Bălţi',\n",
       "              'Bender',\n",
       "              'Briceni',\n",
       "              'Cahul',\n",
       "              'Calarasi',\n",
       "              'Cantemir',\n",
       "              'Causeni',\n",
       "              'Chişinău',\n",
       "              'Cimişlia',\n",
       "              'Criuleni',\n",
       "              'Donduseni',\n",
       "              'Drochia',\n",
       "              'Edineţ',\n",
       "              'Făleşti',\n",
       "              'Floreşti',\n",
       "              'Găgăuzia',\n",
       "              'Glodeni',\n",
       "              'Hîncesti',\n",
       "              'Ialoveni',\n",
       "              'Nisporeni',\n",
       "              'Ocniţa',\n",
       "              'Orhei',\n",
       "              'Rezina',\n",
       "              'Soroca',\n",
       "              'Ştefan Voda',\n",
       "              'Străşeni',\n",
       "              'Taraclia',\n",
       "              'Teleneşti',\n",
       "              'Transnistria',\n",
       "              'Ungheni'],\n",
       "             'Monaco': [],\n",
       "             'Mongolia': ['Arhangay',\n",
       "              'Bayan-Ölgiy',\n",
       "              'Bayanhongor',\n",
       "              'Dornod',\n",
       "              'Dundgovi',\n",
       "              'Dzavhan',\n",
       "              'Govisümber',\n",
       "              'Hovd',\n",
       "              'Orhon',\n",
       "              'Övörhangay',\n",
       "              'Sühbaatar',\n",
       "              'Töv',\n",
       "              'Ulaanbaatar',\n",
       "              'Uvs'],\n",
       "             'Montenegro': ['Cetinje', 'Herceg Novi', 'Nikšic', 'Podgorica'],\n",
       "             'Morocco': ['Doukkala - Abda',\n",
       "              'Grand Casablanca',\n",
       "              'Marrakech - Tensift - Al Haouz',\n",
       "              'Meknès - Tafilalet',\n",
       "              'Rabat - Salé - Zemmour - Zaer',\n",
       "              'Souss - Massa - Draâ',\n",
       "              'Tanger - Tétouan'],\n",
       "             'Mozambique': ['Cabo Delgado', 'Gaza', 'Maputo City', 'Sofala'],\n",
       "             'Myanmar': ['Bago',\n",
       "              'Kachin',\n",
       "              'Kayin',\n",
       "              'Mandalay',\n",
       "              'Mon',\n",
       "              'Naypyitaw',\n",
       "              'Sagaing',\n",
       "              'Shan',\n",
       "              'Tanintharyi',\n",
       "              'Yangon'],\n",
       "             'Namibia': ['!Karas', 'Omaheke'],\n",
       "             'Nepal': ['Central', 'East', 'Mid-Western', 'West'],\n",
       "             'Netherlands': ['Drenthe',\n",
       "              'Friesland',\n",
       "              'Gelderland',\n",
       "              'Groningen',\n",
       "              'IJsselmeer',\n",
       "              'Limburg',\n",
       "              'Noord-Brabant',\n",
       "              'Noord-Holland',\n",
       "              'Overijssel',\n",
       "              'Utrecht',\n",
       "              'Zeeland',\n",
       "              'Zuid-Holland'],\n",
       "             'New Caledonia': ['Nord', 'Sud'],\n",
       "             'New Zealand': ['Auckland',\n",
       "              'Canterbury',\n",
       "              \"Hawke's Bay\",\n",
       "              'Otago',\n",
       "              'Waikato',\n",
       "              'Wellington'],\n",
       "             'Nicaragua': ['Managua', 'Masaya'],\n",
       "             'Niger': ['Agadez', 'Tahoua'],\n",
       "             'Nigeria': ['Abia',\n",
       "              'Anambra',\n",
       "              'Federal Capital Territory',\n",
       "              'Lagos',\n",
       "              'Osun',\n",
       "              'Oyo'],\n",
       "             'Niue': [],\n",
       "             'North Korea': ['Hamgyŏng-bukto',\n",
       "              'Hamgyŏng-namdo',\n",
       "              'Hwanghae-bukto',\n",
       "              'Kaesŏng',\n",
       "              'Kangwŏn-do',\n",
       "              \"P'yŏngan-namdo\",\n",
       "              \"P'yŏngyang\",\n",
       "              'Rasŏn',\n",
       "              'Sinŭiju'],\n",
       "             'Northern Cyprus': ['Nicosia'],\n",
       "             'Northern Mariana Islands': [],\n",
       "             'Norway': ['Ãstfold',\n",
       "              'Aust-Agder',\n",
       "              'Buskerud',\n",
       "              'Finnmark',\n",
       "              'Hedmark',\n",
       "              'Hordaland',\n",
       "              'Møre og Romsdal',\n",
       "              'Nord-Trøndelag',\n",
       "              'Nordland',\n",
       "              'Oppland',\n",
       "              'Oslo',\n",
       "              'Rogaland',\n",
       "              'Sogn og Fjordane',\n",
       "              'Sør-Trøndelag',\n",
       "              'Telemark',\n",
       "              'Troms',\n",
       "              'Vest-Agder'],\n",
       "             'Oman': [],\n",
       "             'Pakistan': ['Azad Kashmir',\n",
       "              'Baluchistan',\n",
       "              'F.A.T.A.',\n",
       "              'F.C.T.',\n",
       "              'N.W.F.P.',\n",
       "              'Northern Areas',\n",
       "              'Punjab',\n",
       "              'Sind'],\n",
       "             'Palau': ['Koror'],\n",
       "             'Palestina': ['Gaza', 'West Bank'],\n",
       "             'Panama': ['Chiriquí', 'Colón', 'Panamá', 'Panamá Oeste'],\n",
       "             'Papua New Guinea': ['East New Britain',\n",
       "              'Madang',\n",
       "              'Manus',\n",
       "              'Milne Bay',\n",
       "              'New Ireland'],\n",
       "             'Paraguay': ['Alto Paraguay', 'Asunción', 'Concepción'],\n",
       "             'Peru': ['Cusco', 'La Libertad', 'Lima Province', 'Loreto'],\n",
       "             'Philippines': ['Batangas',\n",
       "              'Cagayan',\n",
       "              'Cebu',\n",
       "              'Davao Oriental',\n",
       "              'Metropolitan Manila',\n",
       "              'Negros Oriental',\n",
       "              'Nueva Ecija'],\n",
       "             'Poland': ['Dolnośląskie',\n",
       "              'Kujawsko-Pomorskie',\n",
       "              'Łódzkie',\n",
       "              'Lubelskie',\n",
       "              'Lubuskie',\n",
       "              'Małopolskie',\n",
       "              'Mazowieckie',\n",
       "              'Opolskie',\n",
       "              'Podkarpackie',\n",
       "              'Podlaskie',\n",
       "              'Pomorskie',\n",
       "              'Śląskie',\n",
       "              'Świętokrzyskie',\n",
       "              'Warmińsko-Mazurskie',\n",
       "              'Wielkopolskie',\n",
       "              'Zachodniopomorskie'],\n",
       "             'Portugal': ['Aveiro',\n",
       "              'Azores',\n",
       "              'Braga',\n",
       "              'Bragança',\n",
       "              'Coimbra',\n",
       "              'Évora',\n",
       "              'Faro',\n",
       "              'Lisboa',\n",
       "              'Madeira',\n",
       "              'Porto',\n",
       "              'Setúbal',\n",
       "              'Viseu'],\n",
       "             'Puerto Rico': ['Carolina', 'Cidra', 'Orocovis', 'San Juan'],\n",
       "             'Qatar': [],\n",
       "             'Republic of Congo': ['Brazzaville', 'Kouilou', 'Likouala'],\n",
       "             'Reunion': ['Saint-Benoît'],\n",
       "             'Romania': ['Alba',\n",
       "              'Arad',\n",
       "              'Argeș',\n",
       "              'Bacău',\n",
       "              'Bihor',\n",
       "              'Botoșani',\n",
       "              'Brăila',\n",
       "              'Brașov',\n",
       "              'Bucharest',\n",
       "              'Buzău',\n",
       "              'Călărași',\n",
       "              'Caraș-Severin',\n",
       "              'Cluj',\n",
       "              'Constanța',\n",
       "              'Dâmbovița',\n",
       "              'Dolj',\n",
       "              'Galați',\n",
       "              'Gorj',\n",
       "              'Harghita',\n",
       "              'Hunedoara',\n",
       "              'Ialomița',\n",
       "              'Iași',\n",
       "              'Ilfov',\n",
       "              'Maramureș',\n",
       "              'Mehedinți',\n",
       "              'Mureș',\n",
       "              'Neamț',\n",
       "              'Olt',\n",
       "              'Prahova',\n",
       "              'Sălaj',\n",
       "              'Sibiu',\n",
       "              'Suceava',\n",
       "              'Teleorman',\n",
       "              'Timiș',\n",
       "              'Tulcea',\n",
       "              'Vâlcea',\n",
       "              'Vaslui',\n",
       "              'Vrancea'],\n",
       "             'Russia': ['Adygey',\n",
       "              'Altay',\n",
       "              'Amur',\n",
       "              \"Arkhangel'sk\",\n",
       "              \"Astrakhan'\",\n",
       "              'Bashkortostan',\n",
       "              'Belgorod',\n",
       "              'Bryansk',\n",
       "              'Buryat',\n",
       "              'Chechnya',\n",
       "              'Chelyabinsk',\n",
       "              'Chukot',\n",
       "              'Chuvash',\n",
       "              'City of St. Petersburg',\n",
       "              'Dagestan',\n",
       "              'Gorno-Altay',\n",
       "              'Ingush',\n",
       "              'Irkutsk',\n",
       "              'Ivanovo',\n",
       "              'Kabardin-Balkar',\n",
       "              'Kaliningrad',\n",
       "              'Kalmyk',\n",
       "              'Kaluga',\n",
       "              'Kamchatka',\n",
       "              'Karachay-Cherkess',\n",
       "              'Karelia',\n",
       "              'Kemerovo',\n",
       "              'Khabarovsk',\n",
       "              'Khakass',\n",
       "              'Khanty-Mansiy',\n",
       "              'Kirov',\n",
       "              'Komi',\n",
       "              'Kostroma',\n",
       "              'Krasnodar',\n",
       "              'Krasnoyarsk',\n",
       "              'Kurgan',\n",
       "              'Kursk',\n",
       "              'Leningrad',\n",
       "              'Lipetsk',\n",
       "              'Maga Buryatdan',\n",
       "              'Mariy-El',\n",
       "              'Mordovia',\n",
       "              'Moscow City',\n",
       "              'Moskva',\n",
       "              'Murmansk',\n",
       "              'Nenets',\n",
       "              'Nizhegorod',\n",
       "              'North Ossetia',\n",
       "              'Novgorod',\n",
       "              'Novosibirsk',\n",
       "              'Omsk',\n",
       "              'Orel',\n",
       "              'Orenburg',\n",
       "              'Penza',\n",
       "              \"Perm'\",\n",
       "              \"Primor'ye\",\n",
       "              'Pskov',\n",
       "              'Rostov',\n",
       "              \"Ryazan'\",\n",
       "              'Sakha',\n",
       "              'Sakhalin',\n",
       "              'Samara',\n",
       "              'Saratov',\n",
       "              'Smolensk',\n",
       "              \"Stavropol'\",\n",
       "              'Sverdlovsk',\n",
       "              'Tambov',\n",
       "              'Tatarstan',\n",
       "              'Tomsk',\n",
       "              'Tula',\n",
       "              'Tuva',\n",
       "              \"Tver'\",\n",
       "              \"Tyumen'\",\n",
       "              'Udmurt',\n",
       "              \"Ul'yanovsk\",\n",
       "              'Vladimir',\n",
       "              'Volgograd',\n",
       "              'Vologda',\n",
       "              'Voronezh',\n",
       "              'Yamal-Nenets',\n",
       "              \"Yaroslavl'\",\n",
       "              'Yevrey',\n",
       "              \"Zabaykal'ye\"],\n",
       "             'Rwanda': [],\n",
       "             'Saint Helena': ['Ascension', 'Saint Helena', 'Tristan da Cunha'],\n",
       "             'Saint Lucia': [],\n",
       "             'Saint Pierre and Miquelon': ['Miquelon-Langlade'],\n",
       "             'Saint Vincent and the Grenadines': [],\n",
       "             'Samoa': ['Tuamasaga'],\n",
       "             'San Marino': [],\n",
       "             'São Tomé and Príncipe': ['Príncipe'],\n",
       "             'Saudi Arabia': ['Al Hudud ash Shamaliyah',\n",
       "              'Al Madinah',\n",
       "              'Ar Riyad',\n",
       "              'Makkah'],\n",
       "             'Senegal': ['Dakar', 'Louga', 'Saint-Louis'],\n",
       "             'Serbia': ['Borski',\n",
       "              'Braničevski',\n",
       "              'Grad Beograd',\n",
       "              'Južno-Bački',\n",
       "              'Južno-Banatski',\n",
       "              'Kolubarski',\n",
       "              'Nišavski',\n",
       "              'Pčinjski',\n",
       "              'Pirotski',\n",
       "              'Podunavski',\n",
       "              'Rasinski',\n",
       "              'Raški',\n",
       "              'Severno-Bački',\n",
       "              'Severno-Banatski',\n",
       "              'Srednje-Banatski',\n",
       "              'Sremski',\n",
       "              'Šumadijski',\n",
       "              'Zaječarski',\n",
       "              'Zapadno-Bački',\n",
       "              'Zlatiborski'],\n",
       "             'Sierra Leone': ['Eastern', 'Western'],\n",
       "             'Singapore': ['North'],\n",
       "             'Slovakia': ['Banskobystrický',\n",
       "              'Bratislavský',\n",
       "              'Košický',\n",
       "              'Nitriansky',\n",
       "              'Prešovský',\n",
       "              'Trenčiansky',\n",
       "              'Trnavský',\n",
       "              'Žilinský'],\n",
       "             'Slovenia': ['Gorenjska',\n",
       "              'Goriška',\n",
       "              'Jugovzhodna Slovenija',\n",
       "              'Koroška',\n",
       "              'Notranjsko-kraška',\n",
       "              'Osrednjeslovenska',\n",
       "              'Podravska',\n",
       "              'Pomurska',\n",
       "              'Savinjska'],\n",
       "             'Solomon Islands': [],\n",
       "             'Somalia': ['Banaadir',\n",
       "              'Gedo',\n",
       "              'Jubbada Hoose',\n",
       "              'Shabeellaha Hoose',\n",
       "              'Woqooyi Galbeed'],\n",
       "             'South Africa': ['Eastern Cape',\n",
       "              'Gauteng',\n",
       "              'KwaZulu-Natal',\n",
       "              'Limpopo',\n",
       "              'Northern Cape',\n",
       "              'Western Cape'],\n",
       "             'South Georgia and the South Sandwich Islands': [],\n",
       "             'South Korea': ['Busan',\n",
       "              'Daegu',\n",
       "              'Daejeon',\n",
       "              'Gangwon-do',\n",
       "              'Gyeonggi-do',\n",
       "              'Gyeongsangbuk-do',\n",
       "              'Incheon',\n",
       "              'Jeollabuk-do',\n",
       "              'Jeollanam-do',\n",
       "              'Seoul'],\n",
       "             'South Sudan': ['Eastern Equatoria'],\n",
       "             'Spain': ['Andalucía',\n",
       "              'Aragón',\n",
       "              'Cantabria',\n",
       "              'Castilla y León',\n",
       "              'Castilla-La Mancha',\n",
       "              'Cataluña',\n",
       "              'Comunidad de Madrid',\n",
       "              'Comunidad Foral de Navarra',\n",
       "              'Comunidad Valenciana',\n",
       "              'Extremadura',\n",
       "              'Galicia',\n",
       "              'Islas Baleares',\n",
       "              'Islas Canarias',\n",
       "              'País Vasco',\n",
       "              'Principado de Asturias',\n",
       "              'Región de Murcia'],\n",
       "             'Sri Lanka': ['Colombo',\n",
       "              'Galle',\n",
       "              'Kalutara',\n",
       "              'Kandy',\n",
       "              'Mannar',\n",
       "              'Matara',\n",
       "              'Nuwara Eliya',\n",
       "              'Polonnaruwa',\n",
       "              'Ratnapura'],\n",
       "             'Sudan': ['Al Jazirah',\n",
       "              'Khartoum',\n",
       "              'Northern',\n",
       "              'Red Sea',\n",
       "              'River Nile',\n",
       "              'Sennar'],\n",
       "             'Suriname': ['Coronie', 'Paramaribo'],\n",
       "             'Svalbard and Jan Mayen': ['Jan Mayen', 'Svalbard'],\n",
       "             'Swaziland': [],\n",
       "             'Sweden': ['Blekinge',\n",
       "              'Dalarna',\n",
       "              'Gävleborg',\n",
       "              'Gotland',\n",
       "              'Halland',\n",
       "              'Jämtland',\n",
       "              'Jönköping',\n",
       "              'Kalmar',\n",
       "              'Kronoberg',\n",
       "              'Norrbotten',\n",
       "              'Östergötland',\n",
       "              'Skåne',\n",
       "              'Södermanland',\n",
       "              'Stockholm',\n",
       "              'Uppsala',\n",
       "              'Värmland',\n",
       "              'Västerbotten',\n",
       "              'Västmanland',\n",
       "              'Västra Götaland'],\n",
       "             'Switzerland': ['Aargau',\n",
       "              'Appenzell Ausserrhoden',\n",
       "              'Appenzell Innerrhoden',\n",
       "              'Basel-Landschaft',\n",
       "              'Basel-Stadt',\n",
       "              'Bern',\n",
       "              'Fribourg',\n",
       "              'Genève',\n",
       "              'Glarus',\n",
       "              'Graubünden',\n",
       "              'Lucerne',\n",
       "              'Neuchâtel',\n",
       "              'Nidwalden',\n",
       "              'Obwalden',\n",
       "              'Sankt Gallen',\n",
       "              'Schaffhausen',\n",
       "              'Schwyz',\n",
       "              'Solothurn',\n",
       "              'Thurgau',\n",
       "              'Ticino',\n",
       "              'Uri',\n",
       "              'Valais',\n",
       "              'Vaud',\n",
       "              'Zug',\n",
       "              'Zürich'],\n",
       "             'Syria': ['Al Ḥasakah',\n",
       "              'Aleppo',\n",
       "              'Damascus',\n",
       "              'Dar`a',\n",
       "              'Dayr Az Zawr',\n",
       "              'Hims',\n",
       "              'Lattakia',\n",
       "              'Quneitra',\n",
       "              'Rif Dimashq',\n",
       "              'Tartus'],\n",
       "             'Taiwan': ['New Taipei', 'Taichung', 'Taipei', 'Taiwan'],\n",
       "             'Tajikistan': ['Dushanbe',\n",
       "              'Gorno-Badakhshan',\n",
       "              'Khatlon',\n",
       "              'Leninabad',\n",
       "              'Tadzhikistan Territories'],\n",
       "             'Tanzania': ['Dar es Salaam',\n",
       "              'Dodoma',\n",
       "              'Kigoma',\n",
       "              'Kilimanjaro',\n",
       "              'Mara',\n",
       "              'Shinyanga',\n",
       "              'Zanzibar South and Central',\n",
       "              'Zanzibar West'],\n",
       "             'Thailand': ['Bangkok Metropolis',\n",
       "              'Chaiyaphum',\n",
       "              'Chiang Mai',\n",
       "              'Chon Buri',\n",
       "              'Pathum Thani',\n",
       "              'Phra Nakhon Si Ayutthaya',\n",
       "              'Phuket',\n",
       "              'Surat Thani'],\n",
       "             'Timor-Leste': [],\n",
       "             'Togo': ['Kara', 'Maritime'],\n",
       "             'Tonga': [\"Ha'apai\"],\n",
       "             'Trinidad and Tobago': ['Couva-Tabaquite-Talparo'],\n",
       "             'Tunisia': ['Ben Arous (Tunis Sud)',\n",
       "              'Bizerte',\n",
       "              'Kairouan',\n",
       "              'Mahdia',\n",
       "              'Médenine',\n",
       "              'Tataouine',\n",
       "              'Tunis'],\n",
       "             'Turkey': ['Adana',\n",
       "              'Adiyaman',\n",
       "              'Afyon',\n",
       "              'Agri',\n",
       "              'Aksaray',\n",
       "              'Amasya',\n",
       "              'Ankara',\n",
       "              'Antalya',\n",
       "              'Ardahan',\n",
       "              'Artvin',\n",
       "              'Aydin',\n",
       "              'Balikesir',\n",
       "              'Bartın',\n",
       "              'Batman',\n",
       "              'Bilecik',\n",
       "              'Bolu',\n",
       "              'Burdur',\n",
       "              'Bursa',\n",
       "              'Çanakkale',\n",
       "              'Denizli',\n",
       "              'Diyarbakir',\n",
       "              'Edirne',\n",
       "              'Erzurum',\n",
       "              'Gaziantep',\n",
       "              'Hatay',\n",
       "              'Iğdır',\n",
       "              'Isparta',\n",
       "              'Istanbul',\n",
       "              'Izmir',\n",
       "              'K. Maras',\n",
       "              'Karabük',\n",
       "              'Kars',\n",
       "              'Kastamonu',\n",
       "              'Kayseri',\n",
       "              'Kocaeli',\n",
       "              'Konya',\n",
       "              'Kütahya',\n",
       "              'Manisa',\n",
       "              'Mardin',\n",
       "              'Mersin',\n",
       "              'Mugla',\n",
       "              'Mus',\n",
       "              'Nevsehir',\n",
       "              'Ordu',\n",
       "              'Sakarya',\n",
       "              'Samsun',\n",
       "              'Sanliurfa',\n",
       "              'Sinop',\n",
       "              'Tekirdag',\n",
       "              'Trabzon',\n",
       "              'Tunceli',\n",
       "              'Van',\n",
       "              'Yozgat',\n",
       "              'Zinguldak'],\n",
       "             'Turkmenistan': ['Ahal',\n",
       "              'Aşgabat',\n",
       "              'Balkan',\n",
       "              'Chardzhou',\n",
       "              'Mary',\n",
       "              'Tashauz'],\n",
       "             'Turks and Caicos Islands': ['Middle Caicos'],\n",
       "             'Uganda': ['Gulu', 'Kampala', 'Lake Victoria', 'Mbarara'],\n",
       "             'Ukraine': ['Cherkasy',\n",
       "              'Chernihiv',\n",
       "              'Chernivtsi',\n",
       "              'Crimea',\n",
       "              \"Dnipropetrovs'k\",\n",
       "              \"Donets'k\",\n",
       "              \"Ivano-Frankivs'k\",\n",
       "              'Kharkiv',\n",
       "              'Kherson',\n",
       "              \"Khmel'nyts'kyy\",\n",
       "              'Kiev',\n",
       "              'Kiev City',\n",
       "              'Kirovohrad',\n",
       "              \"L'viv\",\n",
       "              \"Luhans'k\",\n",
       "              'Mykolayiv',\n",
       "              'Odessa',\n",
       "              'Poltava',\n",
       "              'Rivne',\n",
       "              \"Sevastopol'\",\n",
       "              'Sumy',\n",
       "              \"Ternopil'\",\n",
       "              'Transcarpathia',\n",
       "              'Vinnytsya',\n",
       "              'Volyn',\n",
       "              'Zaporizhzhya',\n",
       "              'Zhytomyr'],\n",
       "             'United Arab Emirates': ['Abu Dhabi',\n",
       "              'Dubai',\n",
       "              'Sharjah',\n",
       "              'Umm al-Qaywayn'],\n",
       "             'United Kingdom': ['England',\n",
       "              'Northern Ireland',\n",
       "              'Scotland',\n",
       "              'Wales'],\n",
       "             'United States': ['Alabama',\n",
       "              'Alaska',\n",
       "              'Arizona',\n",
       "              'Arkansas',\n",
       "              'California',\n",
       "              'Colorado',\n",
       "              'Connecticut',\n",
       "              'Delaware',\n",
       "              'District of Columbia',\n",
       "              'Florida',\n",
       "              'Georgia',\n",
       "              'Hawaii',\n",
       "              'Idaho',\n",
       "              'Illinois',\n",
       "              'Indiana',\n",
       "              'Iowa',\n",
       "              'Kansas',\n",
       "              'Kentucky',\n",
       "              'Louisiana',\n",
       "              'Maine',\n",
       "              'Maryland',\n",
       "              'Massachusetts',\n",
       "              'Michigan',\n",
       "              'Minnesota',\n",
       "              'Mississippi',\n",
       "              'Missouri',\n",
       "              'Montana',\n",
       "              'Nebraska',\n",
       "              'Nevada',\n",
       "              'New Hampshire',\n",
       "              'New Jersey',\n",
       "              'New Mexico',\n",
       "              'New York',\n",
       "              'North Carolina',\n",
       "              'North Dakota',\n",
       "              'Ohio',\n",
       "              'Oklahoma',\n",
       "              'Oregon',\n",
       "              'Pennsylvania',\n",
       "              'Rhode Island',\n",
       "              'South Carolina',\n",
       "              'South Dakota',\n",
       "              'Tennessee',\n",
       "              'Texas',\n",
       "              'Utah',\n",
       "              'Vermont',\n",
       "              'Virginia',\n",
       "              'Washington',\n",
       "              'West Virginia',\n",
       "              'Wisconsin',\n",
       "              'Wyoming'],\n",
       "             'Uruguay': ['Canelones', 'Montevideo', 'Rocha'],\n",
       "             'Uzbekistan': ['Andijon',\n",
       "              'Bukhoro',\n",
       "              'Ferghana',\n",
       "              'Jizzakh',\n",
       "              'Karakalpakstan',\n",
       "              'Kashkadarya',\n",
       "              'Khorezm',\n",
       "              'Namangan',\n",
       "              'Navoi',\n",
       "              'Samarkand',\n",
       "              'Sirdaryo',\n",
       "              'Surkhandarya',\n",
       "              'Tashkent',\n",
       "              'Tashkent City'],\n",
       "             'Vanuatu': ['Penama'],\n",
       "             'Vatican City': [],\n",
       "             'Venezuela': ['Anzoátegui',\n",
       "              'Distrito Capital',\n",
       "              'Guárico',\n",
       "              'Lara',\n",
       "              'Táchira',\n",
       "              'Zulia'],\n",
       "             'Vietnam': ['Bắc Ninh',\n",
       "              'Bình Thuận',\n",
       "              'Đà Nẵng',\n",
       "              'Điện Biên',\n",
       "              'Hà Nội',\n",
       "              'Hải Phòng',\n",
       "              'Hồ Chí Minh',\n",
       "              'Kiên Giang',\n",
       "              'Ninh Bình',\n",
       "              'Phú Thọ',\n",
       "              'Quảng Bình',\n",
       "              'Quảng Nam',\n",
       "              'Quảng Trị',\n",
       "              'Thanh Hóa',\n",
       "              'Thừa Thiên Huế'],\n",
       "             'Virgin Islands, U.S.': ['Saint John', 'Saint Thomas'],\n",
       "             'Wallis and Futuna': ['Alo'],\n",
       "             'Western Sahara': ['Boujdour'],\n",
       "             'Yemen': ['`Adan',\n",
       "              'Al Mahrah',\n",
       "              'Amanat Al Asimah',\n",
       "              'Hadramawt',\n",
       "              'Ibb'],\n",
       "             'Zambia': ['Copperbelt', 'Lusaka', 'North-Western', 'Southern'],\n",
       "             'Zimbabwe': ['Harare',\n",
       "              'Manicaland',\n",
       "              'Masvingo',\n",
       "              'Matabeleland South']})"
      ]
     },
     "execution_count": 57,
     "metadata": {},
     "output_type": "execute_result"
    }
   ],
   "source": [
    "data"
   ]
  },
  {
   "cell_type": "code",
   "execution_count": 63,
   "metadata": {},
   "outputs": [],
   "source": [
    "data = dict(data)"
   ]
  },
  {
   "cell_type": "code",
   "execution_count": 64,
   "metadata": {},
   "outputs": [],
   "source": [
    "json.dump(data, open(\"../museum_app/static/geo_obj.json\", \"w\"), indent=4, ensure_ascii=False)"
   ]
  },
  {
   "cell_type": "code",
   "execution_count": 65,
   "metadata": {},
   "outputs": [],
   "source": [
    "json.dump(data, open(\"../museum_app/static/js/geo_obj.js\", \"w\"), ensure_ascii=False)"
   ]
  },
  {
   "cell_type": "code",
   "execution_count": 5,
   "metadata": {},
   "outputs": [],
   "source": [
    "df = pd.read_sql_query(\"SELECT * FROM geo_wiki\", con=db2)"
   ]
  },
  {
   "cell_type": "code",
   "execution_count": 6,
   "metadata": {},
   "outputs": [
    {
     "data": {
      "text/plain": [
       "((39226, 13), (39220, 13))"
      ]
     },
     "execution_count": 6,
     "metadata": {},
     "output_type": "execute_result"
    }
   ],
   "source": [
    "df.shape, df.drop_duplicates().shape"
   ]
  },
  {
   "cell_type": "code",
   "execution_count": 10,
   "metadata": {},
   "outputs": [],
   "source": [
    "df = df.drop_duplicates()"
   ]
  },
  {
   "cell_type": "code",
   "execution_count": 13,
   "metadata": {},
   "outputs": [],
   "source": [
    "df.to_sql(\"geo_wiki2\", con=con, if_exists=\"replace\", index=False)"
   ]
  },
  {
   "cell_type": "code",
   "execution_count": 8,
   "metadata": {},
   "outputs": [],
   "source": [
    "df = pd.read_sql_query(\"\"\"\n",
    "SELECT museums.nl_name_1, museums.nl_name_2, museums.name\n",
    "FROM museums\n",
    "LEFT JOIN collection ON collection.museum_copuk = museums.museum_copuk\n",
    "GROUP BY museums.museum_copuk, museums.nl_name_1, museums.nl_name_2, museums.name\n",
    "ORDER BY museums.nl_name_1, museums.nl_name_2, count(collection.id) DESC\"\"\", con=db2)"
   ]
  },
  {
   "cell_type": "code",
   "execution_count": 9,
   "metadata": {},
   "outputs": [],
   "source": [
    "data = defaultdict(lambda: defaultdict(list))\n",
    "\n",
    "for region, district, name in df.values.tolist():\n",
    "    data[region][district].append(name)"
   ]
  },
  {
   "cell_type": "code",
   "execution_count": 11,
   "metadata": {},
   "outputs": [],
   "source": [
    "# data"
   ]
  },
  {
   "cell_type": "code",
   "execution_count": 13,
   "metadata": {},
   "outputs": [],
   "source": [
    "json.dump(data, open(\"../museum_app/static/geo_museum.json\", \"w\"), indent=4, ensure_ascii=False)\n",
    "json.dump(data, open(\"../museum_app/static/geo_museum_2.json\", \"w\"), ensure_ascii=False)"
   ]
  },
  {
   "cell_type": "code",
   "execution_count": 5,
   "metadata": {},
   "outputs": [],
   "source": [
    "import sqlite3\n",
    "\n",
    "photodb = sqlite3.connect(\"/home/dkbrz/github/museum_catalogue/images/faces/photos.db\")\n",
    "photocur = photodb.cursor()"
   ]
  },
  {
   "cell_type": "code",
   "execution_count": 6,
   "metadata": {},
   "outputs": [],
   "source": [
    "photocur.execute(\"SELECT id as face_id, obj_id as image_id FROM faces\")\n",
    "data = photocur.fetchall()"
   ]
  },
  {
   "cell_type": "code",
   "execution_count": 7,
   "metadata": {},
   "outputs": [
    {
     "data": {
      "text/plain": [
       "4281199"
      ]
     },
     "execution_count": 7,
     "metadata": {},
     "output_type": "execute_result"
    }
   ],
   "source": [
    "len(data)"
   ]
  },
  {
   "cell_type": "code",
   "execution_count": 9,
   "metadata": {},
   "outputs": [
    {
     "data": {
      "text/plain": [
       "[(1, 1168),\n",
       " (2, 1293),\n",
       " (3, 1301),\n",
       " (4, 1332),\n",
       " (5, 1332),\n",
       " (6, 1348),\n",
       " (7, 1348),\n",
       " (8, 1478),\n",
       " (9, 1654),\n",
       " (10, 1817)]"
      ]
     },
     "execution_count": 9,
     "metadata": {},
     "output_type": "execute_result"
    }
   ],
   "source": [
    "data[:10]"
   ]
  },
  {
   "cell_type": "code",
   "execution_count": null,
   "metadata": {},
   "outputs": [],
   "source": [
    "CREATE TABLE faces_photo (face_id INT, image_id INT);"
   ]
  },
  {
   "cell_type": "code",
   "execution_count": 12,
   "metadata": {},
   "outputs": [],
   "source": [
    "db2 = mysql.connector.connect(**MYSQL_CONNECTION2)\n",
    "cur2 = db2.cursor()"
   ]
  },
  {
   "cell_type": "code",
   "execution_count": 13,
   "metadata": {},
   "outputs": [
    {
     "data": {
      "application/vnd.jupyter.widget-view+json": {
       "model_id": "44ff09e7b92541268b70d1c4c6995d28",
       "version_major": 2,
       "version_minor": 0
      },
      "text/plain": [
       "HBox(children=(FloatProgress(value=0.0, max=429.0), HTML(value='')))"
      ]
     },
     "metadata": {},
     "output_type": "display_data"
    },
    {
     "name": "stdout",
     "output_type": "stream",
     "text": [
      "\n"
     ]
    }
   ],
   "source": [
    "# cur2.executemany(\"INSERT INTO faces_photo VALUES (%s, %s)\", data)\n",
    "# db2.commit()\n",
    "\n",
    "K = 10000\n",
    "for i in tqdm(range(len(data) // K + 1)):\n",
    "    cur2.executemany(\"INSERT INTO faces_photo VALUES (%s, %s)\", data[i * K: (i + 1) * K])\n",
    "    db2.commit()"
   ]
  }
 ],
 "metadata": {
  "kernelspec": {
   "display_name": "Python 3",
   "language": "python",
   "name": "python3"
  },
  "language_info": {
   "codemirror_mode": {
    "name": "ipython",
    "version": 3
   },
   "file_extension": ".py",
   "mimetype": "text/x-python",
   "name": "python",
   "nbconvert_exporter": "python",
   "pygments_lexer": "ipython3",
   "version": "3.8.5"
  }
 },
 "nbformat": 4,
 "nbformat_minor": 4
}
